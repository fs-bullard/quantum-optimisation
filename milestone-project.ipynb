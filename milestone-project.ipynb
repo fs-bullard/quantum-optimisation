{
 "cells": [
  {
   "cell_type": "markdown",
   "metadata": {},
   "source": [
    "# Milestone Project\n",
    "\n",
    "The goal is to simulate the quantum adiabatic algorithm solving a small instance of maximum independence set on the graph defined by the adjacency matrix $M$, where\n",
    "\n",
    "$$ \n",
    "M = \\begin{pmatrix}\n",
    "0 & 1 & 1 & 0 & 0 \\\\\n",
    "0 & 0 & 1 & 0 & 1 \\\\\n",
    "0 & 0 & 0 & 1 & 1 \\\\\n",
    "0 & 0 & 0 & 0 & 0 \\\\\n",
    "0 & 0 & 0 & 0 & 0 \n",
    "\\end{pmatrix}  \n",
    "$$\n",
    "\n",
    "### Method\n",
    "1. Construct $H_{\\mathrm{Ising}}$ for this graph\n",
    "2. Verify that the lowest energy state is indeed the maximum independent set $|10011\\rangle$, which is represented by a column vector of length $2^5$ with a one in the 19<sup>th</sup> position, and zeros elsewhere\n",
    "3. Simulate an adiabatic algorithm solving the problem with a time dependent Hamiltonian \n"
   ]
  },
  {
   "cell_type": "markdown",
   "metadata": {},
   "source": [
    "#### Import necessary libraries"
   ]
  },
  {
   "cell_type": "code",
   "execution_count": 1,
   "metadata": {},
   "outputs": [],
   "source": [
    "import numpy as np\n",
    "import matplotlib.pyplot as plt"
   ]
  },
  {
   "cell_type": "markdown",
   "metadata": {},
   "source": [
    "#### Helper functions"
   ]
  },
  {
   "cell_type": "code",
   "execution_count": 44,
   "metadata": {},
   "outputs": [],
   "source": [
    "pauli_matrices = {\n",
    "    'x':np.matrix(([0, 1], [1, 0]), dtype=complex),\n",
    "    'y':np.matrix(([0, -1j], [1j, 0]), dtype=complex),\n",
    "    'z':np.matrix(([1, 0], [0, -1]), dtype=complex)\n",
    "}\n",
    "\n",
    "def generate_sigma_j(j: int, axis: str, n:int) -> np.matrix:\n",
    "    \"\"\"\n",
    "    Inputs:\n",
    "    j: the qubit being operated on\n",
    "    axis: x, y or z \n",
    "    n: number of qubits in the system\n",
    "    Returns:\n",
    "    Matrix representation of the axis pauli operation\n",
    "    on the jth qubit\n",
    "    \"\"\"\n",
    "    # Set pauli matrix according to input axis\n",
    "    sigma = pauli_matrices[axis]\n",
    "    \n",
    "    # Initialise sigma_j as 1\n",
    "    sigma_j = 1\n",
    "\n",
    "    # Iterate through to n\n",
    "    for i in range(1, n + 1):\n",
    "        if i == j:\n",
    "            sigma_j = np.kron(sigma_j, sigma)\n",
    "        else:\n",
    "            sigma_j = np.kron(sigma_j, np.identity(2))\n",
    "    \n",
    "    return sigma_j"
   ]
  },
  {
   "cell_type": "markdown",
   "metadata": {},
   "source": [
    "Test helper functions"
   ]
  },
  {
   "cell_type": "code",
   "execution_count": 29,
   "metadata": {},
   "outputs": [],
   "source": [
    "# Write helper function tests"
   ]
  },
  {
   "cell_type": "markdown",
   "metadata": {},
   "source": [
    "#### 1. Construct $H_{\\mathrm{Ising}}$\n",
    "$$\n",
    "H_{\\mathrm{Ising}} = \\sum_{k = 1}^n \\sum_{j = k + 1} ^ n J_{kj} \\sigma_k^z \\sigma_j^z + \\sum_{j=1}^n h_j \\sigma_j^z,\n",
    "$$\n",
    "where $J = M$, and\n",
    "$$\n",
    "h_k = -\\sum_{j=1}^n(M_{kj} + M_{jk}) + \\kappa\n",
    "$$"
   ]
  },
  {
   "cell_type": "code",
   "execution_count": 84,
   "metadata": {},
   "outputs": [],
   "source": [
    "def generate_strengths(M: np.matrix, kappa:float) -> tuple[np.matrix, np.ndarray]:\n",
    "    \"\"\"\n",
    "    Inputs are M the adjacancy matrix and kappa the variable that rewards\n",
    "    more independence\n",
    "    Returns J and h, the coupling and field strengths respectively\n",
    "    \"\"\"\n",
    "    # Set n to be the number of qubits in the system\n",
    "    n = M.shape[0]\n",
    "\n",
    "    # Initialise h as an array of kappas\n",
    "    h = np.ones((n), dtype=complex) * kappa\n",
    "\n",
    "    # Generate h - TODO method could probably be vectorised\n",
    "    for k in range(n):\n",
    "        for j in range(n):\n",
    "            h[k] += -(M[k, j] + M[j, k])\n",
    "    \n",
    "    return M, h\n",
    "\n",
    "def construct_H_ising(J: np.ndarray, h: np.ndarray) -> np.matrix:\n",
    "    \"\"\"\n",
    "    Inputs: J and h are the coupling and field strengths respectively\n",
    "    Returns: The Ising Hamiltonian, a 2^n x 2^n matrix\n",
    "    \"\"\"\n",
    "    n = h.size\n",
    "    H_ising = np.zeros((2**n, 2**n), dtype=complex)\n",
    "\n",
    "    # Add the first sum\n",
    "    for k in range(n):\n",
    "        for j in range(k + 1, n):\n",
    "            sigma_j = generate_sigma_j(j, 'z', n)\n",
    "            sigma_k = generate_sigma_j(k, 'z', n)\n",
    "            H_ising += J[k, j] * sigma_k * sigma_j\n",
    "    \n",
    "    # Add the second sum\n",
    "    for j in range(n):\n",
    "        sigma_j = generate_sigma_j(j, 'z', n)\n",
    "        H_ising += h[j] * sigma_j\n",
    "\n",
    "    return H_ising"
   ]
  },
  {
   "cell_type": "markdown",
   "metadata": {},
   "source": [
    "Test these functions with the example from the project book.\n",
    "\n",
    "For the three qubit problem defined by the graph represented by the adjacency matrix\n",
    "\n",
    "$$\n",
    "M = \\begin{pmatrix}\n",
    "0 & 1 & 0 \\\\\n",
    "0 & 0 & 1 \\\\\n",
    "0 & 0 & 0 \n",
    "\\end{pmatrix},\n",
    "$$\n",
    "\n",
    "We expect the problem Hamiltonian to take the form below."
   ]
  },
  {
   "cell_type": "code",
   "execution_count": 88,
   "metadata": {},
   "outputs": [
    {
     "name": "stdout",
     "output_type": "stream",
     "text": [
      "Test 1 passed\n",
      "Test failed, expected \n",
      " [[-0.5+0.j  0. +0.j  0. +0.j  0. +0.j  0. +0.j  0. +0.j  0. +0.j  0. +0.j]\n",
      " [ 0. +0.j -1.5+0.j  0. +0.j  0. +0.j  0. +0.j  0. +0.j  0. +0.j  0. +0.j]\n",
      " [ 0. +0.j  0. +0.j -1.5+0.j  0. +0.j  0. +0.j  0. +0.j  0. +0.j  0. +0.j]\n",
      " [ 0. +0.j  0. +0.j  0. +0.j  1.5+0.j  0. +0.j  0. +0.j  0. +0.j  0. +0.j]\n",
      " [ 0. +0.j  0. +0.j  0. +0.j  0. +0.j -1.5+0.j  0. +0.j  0. +0.j  0. +0.j]\n",
      " [ 0. +0.j  0. +0.j  0. +0.j  0. +0.j  0. +0.j -2.5+0.j  0. +0.j  0. +0.j]\n",
      " [ 0. +0.j  0. +0.j  0. +0.j  0. +0.j  0. +0.j  0. +0.j  1.5+0.j  0. +0.j]\n",
      " [ 0. +0.j  0. +0.j  0. +0.j  0. +0.j  0. +0.j  0. +0.j  0. +0.j  4.5+0.j]],\n",
      " got \n",
      " [[-0.5+0.j  0. +0.j  0. +0.j  0. +0.j  0. +0.j  0. +0.j  0. +0.j  0. +0.j]\n",
      " [ 0. +0.j -0.5+0.j  0. +0.j  0. +0.j  0. +0.j  0. +0.j  0. +0.j  0. +0.j]\n",
      " [ 0. +0.j  0. +0.j -1.5+0.j  0. +0.j  0. +0.j  0. +0.j  0. +0.j  0. +0.j]\n",
      " [ 0. +0.j  0. +0.j  0. +0.j -1.5+0.j  0. +0.j  0. +0.j  0. +0.j  0. +0.j]\n",
      " [ 0. +0.j  0. +0.j  0. +0.j  0. +0.j -1.5+0.j  0. +0.j  0. +0.j  0. +0.j]\n",
      " [ 0. +0.j  0. +0.j  0. +0.j  0. +0.j  0. +0.j -1.5+0.j  0. +0.j  0. +0.j]\n",
      " [ 0. +0.j  0. +0.j  0. +0.j  0. +0.j  0. +0.j  0. +0.j  1.5+0.j  0. +0.j]\n",
      " [ 0. +0.j  0. +0.j  0. +0.j  0. +0.j  0. +0.j  0. +0.j  0. +0.j  1.5+0.j]].\n"
     ]
    }
   ],
   "source": [
    "kappa = 0.5\n",
    "M = np.matrix([\n",
    "    [0, 1, 0],\n",
    "    [0, 0, 1],\n",
    "    [0, 0, 0]\n",
    "])\n",
    "expected_H = np.diag(np.array([\n",
    "    -2 + 3*kappa, \n",
    "    -2 + kappa,\n",
    "    -2 + kappa, \n",
    "    2 - kappa,\n",
    "    -2 + kappa,\n",
    "    -2 - kappa,\n",
    "    2 - kappa,\n",
    "    6 - 3*kappa\n",
    "], dtype=complex))\n",
    "\n",
    "J, h = generate_strengths(M, kappa)\n",
    "\n",
    "if np.array_equal(h, np.array([-0.5, -1.5, -0.5])):\n",
    "    print(\"Test 1 passed\")\n",
    "else:\n",
    "    print(f\"Test 1 failed, expected\\n {np.array([-0.5, -1.5, -0.5])},\\n got {h}\")\n",
    "\n",
    "my_H = construct_H_ising(J, h)\n",
    "\n",
    "if np.array_equal(my_H, expected_H):\n",
    "    print(\"Test Passed!\")\n",
    "else:\n",
    "    print(f\"Test failed, expected \\n {expected_H},\\n got \\n {my_H}.\")"
   ]
  },
  {
   "cell_type": "code",
   "execution_count": null,
   "metadata": {},
   "outputs": [],
   "source": []
  }
 ],
 "metadata": {
  "kernelspec": {
   "display_name": "Python 3",
   "language": "python",
   "name": "python3"
  },
  "language_info": {
   "codemirror_mode": {
    "name": "ipython",
    "version": 3
   },
   "file_extension": ".py",
   "mimetype": "text/x-python",
   "name": "python",
   "nbconvert_exporter": "python",
   "pygments_lexer": "ipython3",
   "version": "3.10.5"
  },
  "orig_nbformat": 4
 },
 "nbformat": 4,
 "nbformat_minor": 2
}
