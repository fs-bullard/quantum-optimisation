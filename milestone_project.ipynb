{
 "cells": [
  {
   "cell_type": "markdown",
   "metadata": {},
   "source": [
    "# Milestone Project\n",
    "\n",
    "The goal is to simulate the quantum adiabatic algorithm solving a small instance of maximum independence set on the graph defined by the adjacency matrix $M$, where\n",
    "\n",
    "$$ \n",
    "M = \\begin{pmatrix}\n",
    "0 & 1 & 1 & 0 & 0 \\\\\n",
    "0 & 0 & 1 & 0 & 1 \\\\\n",
    "0 & 0 & 0 & 1 & 1 \\\\\n",
    "0 & 0 & 0 & 0 & 0 \\\\\n",
    "0 & 0 & 0 & 0 & 0 \n",
    "\\end{pmatrix}  \n",
    "$$\n",
    "\n",
    "### Method\n",
    "1. Construct $H_{\\mathrm{Ising}}$ for this graph\n",
    "2. Verify that the lowest energy state is indeed the maximum independent set $|10011\\rangle$, which is represented by a column vector of length $2^5$ with a one in the 19<sup>th</sup> position, and zeros elsewhere\n",
    "3. Simulate an adiabatic algorithm solving the problem with a time dependent Hamiltonian \n"
   ]
  },
  {
   "cell_type": "markdown",
   "metadata": {},
   "source": [
    "#### Import necessary libraries"
   ]
  },
  {
   "cell_type": "code",
   "execution_count": 2,
   "metadata": {},
   "outputs": [],
   "source": [
    "import numpy as np\n",
    "import scipy as sc\n",
    "import matplotlib\n",
    "import matplotlib.pyplot as plt\n",
    "from matplotlib import animation\n",
    "from matplotlib.animation import FuncAnimation\n",
    "from functools import partial\n",
    "from IPython.display import HTML"
   ]
  },
  {
   "cell_type": "markdown",
   "metadata": {},
   "source": [
    "#### Helper functions"
   ]
  },
  {
   "cell_type": "code",
   "execution_count": 3,
   "metadata": {},
   "outputs": [
    {
     "name": "stdout",
     "output_type": "stream",
     "text": [
      "[[ 1.  0.  0.  0.  0.  0.  0.  0.]\n",
      " [ 0.  1.  0.  0.  0.  0.  0.  0.]\n",
      " [ 0.  0. -1. -0.  0.  0. -0. -0.]\n",
      " [ 0.  0. -0. -1.  0.  0. -0. -0.]\n",
      " [ 0.  0.  0.  0.  1.  0.  0.  0.]\n",
      " [ 0.  0.  0.  0.  0.  1.  0.  0.]\n",
      " [ 0.  0. -0. -0.  0.  0. -1. -0.]\n",
      " [ 0.  0. -0. -0.  0.  0. -0. -1.]]\n"
     ]
    }
   ],
   "source": [
    "pauli_matrices = {\n",
    "    'x':np.matrix(([0, 1], [1, 0])),\n",
    "    'y':np.matrix(([0, -1j], [1j, 0]), dtype=complex),\n",
    "    'z':np.matrix(([1, 0], [0, -1]))\n",
    "}\n",
    "\n",
    "def generate_sigma_j(j: int, axis: str, n:int) -> np.matrix:\n",
    "    \"\"\"\n",
    "    Inputs:\n",
    "    j: the qubit being operated on\n",
    "    axis: x, y or z \n",
    "    n: number of qubits in the system\n",
    "    Returns:\n",
    "    Matrix representation of the axis pauli operation\n",
    "    on the jth qubit\n",
    "    \"\"\"\n",
    "    # Set pauli matrix according to input axis\n",
    "    sigma = pauli_matrices[axis]\n",
    "    \n",
    "    # Initialise sigma_j as 1\n",
    "    sigma_j = 1\n",
    "\n",
    "    # Iterate through to n\n",
    "    for i in range(n):\n",
    "        if i == j:\n",
    "            sigma_j = np.kron(sigma_j, sigma)\n",
    "        else:\n",
    "            sigma_j = np.kron(sigma_j, np.identity(2))\n",
    "    \n",
    "    return sigma_j\n",
    "\n",
    "print(generate_sigma_j(1, 'z', 3))"
   ]
  },
  {
   "cell_type": "markdown",
   "metadata": {},
   "source": [
    "#### 1. Construct $H_{\\mathrm{Ising}}$\n",
    "$$\n",
    "H_{\\mathrm{Ising}} = \\sum_{k = 1}^n \\sum_{j = k + 1} ^ n J_{kj} \\sigma_k^z \\sigma_j^z + \\sum_{j=1}^n h_j \\sigma_j^z,\n",
    "$$\n",
    "where $J = M$, and\n",
    "$$\n",
    "h_k = -\\sum_{j=1}^n(M_{kj} + M_{jk}) + \\kappa\n",
    "$$"
   ]
  },
  {
   "cell_type": "code",
   "execution_count": 4,
   "metadata": {},
   "outputs": [],
   "source": [
    "def generate_strengths(M: np.matrix, kappa:float) -> tuple[np.matrix, np.ndarray]:\n",
    "    \"\"\"\n",
    "    Inputs are M the adjacancy matrix and kappa the variable that rewards\n",
    "    more independence\n",
    "    Returns J and h, the coupling and field strengths respectively\n",
    "    \"\"\"\n",
    "    # Set n to be the number of qubits in the system\n",
    "    n = M.shape[0]\n",
    "\n",
    "    # Initialise h as an array of kappas\n",
    "    h = np.ones((n)) * kappa\n",
    "\n",
    "    # Generate h - TODO method could probably be vectorised\n",
    "    for k in range(n):\n",
    "        for j in range(n):\n",
    "            h[k] += -(M[k, j] + M[j, k])\n",
    "    \n",
    "    return M, h\n",
    "\n",
    "def construct_H_ising(J: np.ndarray, h: np.ndarray) -> np.matrix:\n",
    "    \"\"\"\n",
    "    Inputs: J and h are the coupling and field strengths respectively\n",
    "    Returns: The Ising Hamiltonian, a 2^n x 2^n matrix\n",
    "    \"\"\"\n",
    "    n = h.size\n",
    "    H_ising = np.zeros((2**n, 2**n))\n",
    "\n",
    "    # Add the first sum\n",
    "    for k in range(n):\n",
    "        for j in range(k + 1, n):\n",
    "            sigma_j = generate_sigma_j(j, 'z', n)\n",
    "            sigma_k = generate_sigma_j(k, 'z', n)\n",
    "            H_ising += J[k, j] * sigma_k * sigma_j\n",
    "    \n",
    "    # Add the second sum\n",
    "    for j in range(n):\n",
    "        sigma_j = generate_sigma_j(j, 'z', n)\n",
    "        H_ising += h[j] * sigma_j\n",
    "\n",
    "    return H_ising"
   ]
  },
  {
   "cell_type": "markdown",
   "metadata": {},
   "source": [
    "##### Test these functions with the example from the project book.\n",
    "\n",
    "For the three qubit problem defined by the graph represented by the adjacency matrix\n",
    "\n",
    "$$\n",
    "M = \\begin{pmatrix}\n",
    "0 & 1 & 0 \\\\\n",
    "0 & 0 & 1 \\\\\n",
    "0 & 0 & 0 \n",
    "\\end{pmatrix}\n",
    "$$\n",
    "\n",
    "we can check if our functions generate the expected Ising Hamiltonian."
   ]
  },
  {
   "cell_type": "code",
   "execution_count": 5,
   "metadata": {},
   "outputs": [
    {
     "name": "stdout",
     "output_type": "stream",
     "text": [
      "Test 1 passed! Generated correct field strengths.\n",
      "Test 2 passed! Generated correct Ising Hamiltonian.\n"
     ]
    }
   ],
   "source": [
    "kappa_test = 0.5\n",
    "M_test = np.matrix([\n",
    "    [0, 1, 0],\n",
    "    [0, 0, 1],\n",
    "    [0, 0, 0]\n",
    "])\n",
    "expected_h_test = np.diag(np.array([\n",
    "    -2 + 3*kappa_test, \n",
    "    -2 + kappa_test,\n",
    "    -2 + kappa_test, \n",
    "    2 - kappa_test,\n",
    "    -2 + kappa_test,\n",
    "    -2 - kappa_test,\n",
    "    2 - kappa_test,\n",
    "    6 - 3*kappa_test\n",
    "]))\n",
    "\n",
    "J_test, h_test = generate_strengths(M_test, kappa_test)\n",
    "\n",
    "if np.array_equal(h_test, np.array([-0.5, -1.5, -0.5])):\n",
    "    print(\"Test 1 passed! Generated correct field strengths.\")\n",
    "else:\n",
    "    print(f\"Test 1 failed, expected\\n {np.array([-0.5, -1.5, -0.5])},\\n got {h_test}\")\n",
    "\n",
    "my_h_test = construct_H_ising(J_test, h_test)\n",
    "\n",
    "if np.array_equal(my_h_test, expected_h_test):\n",
    "    print(\"Test 2 passed! Generated correct Ising Hamiltonian.\")\n",
    "else:\n",
    "    print(f\"Test failed, expected \\n {expected_h_test},\\n got \\n {my_h_test}.\")"
   ]
  },
  {
   "cell_type": "markdown",
   "metadata": {},
   "source": [
    "Assuming they passed, we can generate the project Hamiltonian"
   ]
  },
  {
   "cell_type": "code",
   "execution_count": 6,
   "metadata": {},
   "outputs": [
    {
     "data": {
      "text/plain": [
       "array([[-3.5,  0. ,  0. , ...,  0. ,  0. ,  0. ],\n",
       "       [ 0. , -4.5,  0. , ...,  0. ,  0. ,  0. ],\n",
       "       [ 0. ,  0. , -4.5, ...,  0. ,  0. ,  0. ],\n",
       "       ...,\n",
       "       [ 0. ,  0. ,  0. , ..., 12.5,  0. ,  0. ],\n",
       "       [ 0. ,  0. ,  0. , ...,  0. ,  8.5,  0. ],\n",
       "       [ 0. ,  0. ,  0. , ...,  0. ,  0. , 15.5]])"
      ]
     },
     "execution_count": 6,
     "metadata": {},
     "output_type": "execute_result"
    }
   ],
   "source": [
    "kappa = 0.5\n",
    "M = np.matrix([\n",
    "    [0, 1, 1, 0, 0],\n",
    "    [0, 0, 1, 0, 1],\n",
    "    [0, 0, 0, 1, 1],\n",
    "    [0, 0, 0, 0, 0],\n",
    "    [0, 0, 0, 0, 0]\n",
    "])\n",
    "\n",
    "J, h = generate_strengths(M, kappa)\n",
    "\n",
    "H_ising = construct_H_ising(J, h)\n",
    "\n",
    "H_ising"
   ]
  },
  {
   "cell_type": "markdown",
   "metadata": {},
   "source": [
    "#### 2. Verify correct lowest energy state is in the 19th column\n"
   ]
  },
  {
   "cell_type": "code",
   "execution_count": 7,
   "metadata": {},
   "outputs": [
    {
     "name": "stdout",
     "output_type": "stream",
     "text": [
      "Lowest energy state is as expected.\n"
     ]
    }
   ],
   "source": [
    "if np.min(H_ising) == H_ising[19][19]:\n",
    "    print(\"Lowest energy state is as expected.\")\n",
    "else:\n",
    "    print(\"Lowest energy state is not where we expect to find it.\")"
   ]
  },
  {
   "cell_type": "markdown",
   "metadata": {},
   "source": [
    "#### 3. Simulate an adiabatic algorithm, solving the problem with a time dependent Hamiltonian\n",
    "\n",
    "First, define the function for the time-dependent Hamiltonian,\n",
    "\n",
    "$$\n",
    "H(t) = -A(t) \\sum_j \\sigma_j^x + B(t)H_{\\mathrm{Ising}},\n",
    "$$\n",
    "\n",
    "where $A(t) = 1 - t/t_{\\mathrm{max}}$ and $B(t) = t/t_{\\mathrm{max}}$ are the time-dependent controls."
   ]
  },
  {
   "cell_type": "code",
   "execution_count": 8,
   "metadata": {},
   "outputs": [],
   "source": [
    "def time_dependent_H(t: float, t_max: int, H_ising: np.matrix, n: int) -> np.matrix:\n",
    "    \"\"\"\n",
    "    Inputs:\n",
    "    t: time\n",
    "    t_max: max time\n",
    "    H_isising: the problem Hamiltonian\n",
    "    n: the number of qubits in the system\n",
    "    \"\"\"  \n",
    "    A = 1 - t/t_max\n",
    "    B = t/t_max\n",
    "\n",
    "    H = B * H_ising\n",
    "\n",
    "    for j in range(n):\n",
    "        H -= A * generate_sigma_j(j, 'x', n)\n",
    "    \n",
    "    return H"
   ]
  },
  {
   "cell_type": "markdown",
   "metadata": {},
   "source": [
    "Form the initial wavefunction, the ground state of the initial Hamiltonian. Since, at $t = 0$, $B=0$ and $A>0$, the ground state will just be the highest energy state of each $\\sigma^x$ individually.\n",
    "$$\n",
    "| \\phi_0 \\left ( A>0, B=0\\right)\\rangle = \\bigotimes _{j=1}^n | + \\rangle\n",
    "$$"
   ]
  },
  {
   "cell_type": "code",
   "execution_count": 9,
   "metadata": {},
   "outputs": [],
   "source": [
    "def generate_initial_wavefunction(n: int) -> np.ndarray:\n",
    "    \"\"\"\n",
    "    Inputs:\n",
    "    n: number of qubits\n",
    "    Returns:\n",
    "    The ground state of the Hamiltonian at t=0\n",
    "    \"\"\"\n",
    "    phi = 1\n",
    "    max_state = np.array([[1, 1]]).T / np.sqrt(2)\n",
    "\n",
    "    for _ in range(n):\n",
    "        phi = np.kron(phi, max_state)\n",
    "    \n",
    "    return phi"
   ]
  },
  {
   "cell_type": "code",
   "execution_count": 10,
   "metadata": {},
   "outputs": [],
   "source": [
    "n = M.shape[0]\n",
    "phi_0 = generate_initial_wavefunction(n)"
   ]
  },
  {
   "cell_type": "markdown",
   "metadata": {},
   "source": [
    "We also need the vector $|19\\rangle$ to calculate the probability that our solution is correct"
   ]
  },
  {
   "cell_type": "code",
   "execution_count": 11,
   "metadata": {},
   "outputs": [],
   "source": [
    "def generate_vector_j(j: int, n: int) -> np.ndarray:\n",
    "    \"\"\"\n",
    "    Returns a column vector with all values 0 except at j where it is 1\n",
    "    \"\"\"\n",
    "    vector = np.zeros((1, 2**n))\n",
    "    vector[:,j] = 1\n",
    "\n",
    "    return vector.T"
   ]
  },
  {
   "cell_type": "markdown",
   "metadata": {},
   "source": [
    "And the time evolution operator\n",
    "\n",
    "$$\n",
    "U\\left(\\frac{k t_\\mathrm{max}}{q}, 0\\right) = \\mathcal{T}\\prod_{j=1}^k \\exp \\left ( -i \\frac{t_\\mathrm{max}}{q} H \\left(\\frac{j t_\\mathrm{max}}{q}\\right) \\right)\n",
    "$$"
   ]
  },
  {
   "cell_type": "code",
   "execution_count": 12,
   "metadata": {},
   "outputs": [],
   "source": [
    "def time_evolution(q: int, t_max: int, H: np.matrix, phi: np.ndarray) -> np.ndarray:\n",
    "    \"\"\"\n",
    "    Inputs:\n",
    "    q: number of time divisions\n",
    "    t_max: total time\n",
    "    H: time dependent Hamiltonian evaluated at t\n",
    "    phi: current wavefunction\n",
    "    Returns:\n",
    "    The time evolved wavefunction\n",
    "    \"\"\"\n",
    "    return np.matmul(sc.linalg.expm(-1j *t_max/ q * H), phi)"
   ]
  },
  {
   "cell_type": "markdown",
   "metadata": {},
   "source": [
    "Now, vary $t$ from $0$ to $t_{\\mathrm{max}}$ in $q$ steps. "
   ]
  },
  {
   "cell_type": "code",
   "execution_count": 13,
   "metadata": {},
   "outputs": [],
   "source": [
    "def evolve_phi(\n",
    "        phi: np.ndarray,\n",
    "        t: float,\n",
    "        t_max: int,\n",
    "        q: int,\n",
    "        H_ising: np.ndarray,\n",
    "        n: int\n",
    "        ) -> list[float]:\n",
    "    \"\"\"\n",
    "    For a given function phi = phi(t - t_max/q), returns\n",
    "    phi(t)\n",
    "    \"\"\"\n",
    "\n",
    "    # Generate the Hamiltonian at time t\n",
    "    H = time_dependent_H(t, t_max, H_ising, n)\n",
    "\n",
    "    # Evolve the wavefunction from t -> t + 1/q\n",
    "    phi = time_evolution(q, t_max, H, phi)\n",
    "\n",
    "    return phi"
   ]
  },
  {
   "cell_type": "code",
   "execution_count": 14,
   "metadata": {},
   "outputs": [],
   "source": [
    "def generate_probabilities(\n",
    "        q: int, \n",
    "        t_max: int,\n",
    "        H_ising: np.matrix, \n",
    "        n: int, \n",
    "        phi_expected: np.ndarray\n",
    "        ) -> list[float]:\n",
    "    \"\"\"\n",
    "    Inputs:\n",
    "    q: the number of time increments\n",
    "    t_max: the maximum time\n",
    "    H_ising: the problem Hamilonian\n",
    "    n: the number of qubits\n",
    "    expected_vector: the ground state of the Ising Hamiltonian\n",
    "    Returns:\n",
    "    A list of the probabilities that the system has the expected wavefunction\n",
    "    for times t in [0, t_max]  \n",
    "    \"\"\"\n",
    "    probs = []\n",
    "    phi = phi_0\n",
    "\n",
    "    for j in range(q):\n",
    "        t = j * t_max / q\n",
    "        phi = evolve_phi(phi, t, t_max, q, H_ising, n)\n",
    "\n",
    "        # Calculate the probability that phi represents the expected vector_19\n",
    "        prob = (np.abs(np.dot(phi.T, phi_expected))**2)[0][0] \n",
    "\n",
    "        probs.append(prob)\n",
    "    \n",
    "    return probs"
   ]
  },
  {
   "cell_type": "code",
   "execution_count": 15,
   "metadata": {},
   "outputs": [],
   "source": [
    "def optimise_mis(\n",
    "        q: int, \n",
    "        t_max: int,\n",
    "        H_ising: np.matrix, \n",
    "        n: int,\n",
    ") -> np.ndarray:\n",
    "    \"\"\"\n",
    "    Inputs:\n",
    "    q: the number of time increments\n",
    "    t_max: the maximum time\n",
    "    H_ising: the problem Hamilonian\n",
    "    n: the number of qubits\n",
    "    Returns:\n",
    "    The state of the system at t_max\n",
    "    \"\"\"\n",
    "    probs = []\n",
    "    phi = phi_0\n",
    "\n",
    "    for j in range(q):\n",
    "        t = j * t_max / q\n",
    "        phi = evolve_phi(phi, t, t_max, q, H_ising, n)\n",
    "    \n",
    "    return phi"
   ]
  },
  {
   "cell_type": "code",
   "execution_count": 16,
   "metadata": {},
   "outputs": [],
   "source": [
    "plt.rcParams.update({\n",
    "    \"text.usetex\": True,\n",
    "    \"font.family\": 'serif',\n",
    "    \"font.size\": 12\n",
    "})"
   ]
  },
  {
   "cell_type": "code",
   "execution_count": 17,
   "metadata": {},
   "outputs": [],
   "source": [
    "from matplotlib import cm"
   ]
  },
  {
   "cell_type": "code",
   "execution_count": 37,
   "metadata": {},
   "outputs": [
    {
     "name": "stdout",
     "output_type": "stream",
     "text": [
      "1 0.0624739521971188\n",
      "2 0.09809347347076888\n",
      "5 0.4503613990208067\n",
      "10 0.8748780479093506\n",
      "18 0.9859018958545194\n",
      "100 0.9995500266446987\n"
     ]
    },
    {
     "data": {
      "image/png": "[encoded data removed]",
      "text/plain": [
       "<Figure size 500x300 with 1 Axes>"
      ]
     },
     "metadata": {},
     "output_type": "display_data"
    }
   ],
   "source": [
    "q = 1000\n",
    "t_maxs = [1, 2, 5, 10, 18]\n",
    "# t_maxs = [25.345]\n",
    "phi_expected = generate_vector_j(19, n)\n",
    "\n",
    "colours = cm.rainbow_r(np.linspace(0, 1, len(t_maxs)))\n",
    "# colours = ['#25EDFF', '#993366', '#085296', '#68246D', '#250178']\n",
    "plt.figure(figsize=(5, 3))\n",
    "\n",
    "for i, t_max in enumerate(t_maxs):\n",
    "    # Calculate the probabilities\n",
    "    probs = generate_probabilities(q, t_max, H_ising, n, phi_expected)\n",
    "\n",
    "    # Find the phi_expected component of the final state\n",
    "    final_prob = probs[-1]\n",
    "    print(t_max, final_prob)\n",
    "\n",
    "    # Plot a dotted horizontal line at y=final_prob\n",
    "    # plt.axhline(final_prob, linestyle='--', color='gray')\n",
    "\n",
    "    # Label the line\n",
    "    # plt.text(1.01, final_prob, f'{final_prob:.2f}', \n",
    "    #          va='center', ha='left', \n",
    "    #          bbox=dict(boxstyle='round,pad=0.3', edgecolor='black', facecolor='white'))\n",
    "\n",
    "    times = np.linspace(0, 1, q)\n",
    "    plt.plot(times, probs, label=t_max, color=colours[i])\n",
    "\n",
    "plt.xlabel(r'$t / t_\\mathrm{max}$')\n",
    "plt.ylabel('Probability of Success')\n",
    "plt.legend(title=r'$t_\\mathrm{max}$', fontsize='10')\n",
    "plt.savefig('milestone_nolabels.png', transparent=True, bbox_inches='tight')"
   ]
  },
  {
   "cell_type": "markdown",
   "metadata": {},
   "source": [
    "### Plot the final success probability against t_max"
   ]
  },
  {
   "cell_type": "code",
   "execution_count": 39,
   "metadata": {},
   "outputs": [
    {
     "data": {
      "image/png": "[encoded data removed]",
      "text/plain": [
       "<Figure size 500x300 with 1 Axes>"
      ]
     },
     "metadata": {},
     "output_type": "display_data"
    }
   ],
   "source": [
    "q = 100\n",
    "t_maxs = np.linspace(1, 50, 170)\n",
    "plt.figure(figsize=(5, 3))\n",
    "probs = []\n",
    "for t_max in t_maxs:\n",
    "    phi_final = optimise_mis(q, t_max, H_ising, n)\n",
    "    prob = (np.abs(np.dot(phi_final.T, phi_expected))**2)[0][0] \n",
    "    probs.append(prob)\n",
    "\n",
    "plt.plot(t_maxs, probs, color='#250178')\n",
    "i = int(61)\n",
    "plt.axvline(t_maxs[i], ymax=0.94, linestyle='--', color='gray')\n",
    "plt.axhline(probs[i], xmax=0.36, linestyle='--', color='gray')\n",
    "\n",
    "plt.text(21.5, 0.65, r'$t_\\mathrm{max} = 18,$ ' '\\n' r'$P_\\mathrm{success} = 0.99$', color='#250178', fontsize=15, bbox=dict(boxstyle='round,pad=0.3', edgecolor='#250178', facecolor='white'))\n",
    "# plt.text(25, 0.75, r'$P_\\mathrm{success} = 0.99$')\n",
    "\n",
    "plt.xlim((0, 50))\n",
    "plt.ylim((0, 1.05))\n",
    "plt.xlabel(r'$t_\\mathrm{max}$')\n",
    "plt.ylabel('Probability of Success')\n",
    "plt.savefig('success_prob.png', transparent=True, bbox_inches='tight')"
   ]
  },
  {
   "cell_type": "code",
   "execution_count": 50,
   "metadata": {},
   "outputs": [
    {
     "name": "stdout",
     "output_type": "stream",
     "text": [
      "t_max: 1.0, prob: 0.06247236099758684\n",
      "t_max: 1.2929292929292928, prob: 0.07209390591338273\n",
      "t_max: 1.5858585858585859, prob: 0.0821905081668338\n",
      "t_max: 1.878787878787879, prob: 0.09321592268598251\n",
      "t_max: 2.1717171717171717, prob: 0.1053466832502077\n",
      "t_max: 2.4646464646464645, prob: 0.11856853061426767\n",
      "t_max: 2.757575757575758, prob: 0.13257401131223476\n",
      "t_max: 3.0505050505050506, prob: 0.14785051097147026\n",
      "t_max: 3.3434343434343434, prob: 0.16626955273344132\n",
      "t_max: 3.6363636363636362, prob: 0.19088300433922928\n",
      "t_max: 3.929292929292929, prob: 0.22535569568702926\n",
      "t_max: 4.222222222222222, prob: 0.27258872874735124\n",
      "t_max: 4.515151515151516, prob: 0.33284878890220004\n",
      "t_max: 4.808080808080808, prob: 0.4026312568459586\n",
      "t_max: 5.101010101010101, prob: 0.4750741982722532\n",
      "t_max: 5.393939393939394, prob: 0.541818962482709\n",
      "t_max: 5.686868686868687, prob: 0.5955496958985408\n",
      "t_max: 5.97979797979798, prob: 0.6321857930123673\n",
      "t_max: 6.2727272727272725, prob: 0.6518240750488561\n",
      "t_max: 6.565656565656566, prob: 0.6581937843348026\n",
      "t_max: 6.858585858585858, prob: 0.6571810426376126\n",
      "t_max: 7.151515151515151, prob: 0.6551360354238089\n",
      "t_max: 7.444444444444445, prob: 0.6573964951850918\n",
      "t_max: 7.737373737373737, prob: 0.6673139336362272\n",
      "t_max: 8.030303030303031, prob: 0.6859656486713592\n",
      "t_max: 8.323232323232324, prob: 0.7124428759807793\n",
      "t_max: 8.616161616161616, prob: 0.7443844216925682\n",
      "t_max: 8.90909090909091, prob: 0.7785631172059446\n",
      "t_max: 9.202020202020202, prob: 0.8115345341150663\n",
      "t_max: 9.494949494949495, prob: 0.8403073053046697\n",
      "t_max: 9.787878787878787, prob: 0.8628754242623401\n",
      "t_max: 10.080808080808081, prob: 0.8784760966429694\n",
      "t_max: 10.373737373737374, prob: 0.8875701823665736\n",
      "t_max: 10.666666666666666, prob: 0.8916264890310516\n",
      "t_max: 10.95959595959596, prob: 0.8927450746897849\n",
      "t_max: 11.252525252525253, prob: 0.8931515438001869\n",
      "t_max: 11.545454545454545, prob: 0.894704629741213\n",
      "t_max: 11.83838383838384, prob: 0.8985852643584604\n",
      "t_max: 12.131313131313131, prob: 0.905216077695755\n",
      "t_max: 12.424242424242424, prob: 0.9143407309872882\n",
      "t_max: 12.717171717171716, prob: 0.9251885035329809\n",
      "t_max: 13.01010101010101, prob: 0.9367072342391799\n",
      "t_max: 13.303030303030303, prob: 0.9478224449075656\n",
      "t_max: 13.595959595959595, prob: 0.957628210843278\n",
      "t_max: 13.88888888888889, prob: 0.9654769135409812\n",
      "t_max: 14.181818181818182, prob: 0.9710190648850822\n",
      "t_max: 14.474747474747474, prob: 0.974228279998654\n",
      "t_max: 14.767676767676768, prob: 0.9753912675454388\n",
      "t_max: 15.06060606060606, prob: 0.9750399401461045\n",
      "t_max: 15.353535353535353, prob: 0.9738460895929169\n",
      "t_max: 15.646464646464647, prob: 0.9725133972829629\n",
      "t_max: 15.93939393939394, prob: 0.9716696790435053\n",
      "t_max: 16.232323232323232, prob: 0.9717568604700773\n",
      "t_max: 16.525252525252526, prob: 0.9729502396904571\n",
      "t_max: 16.81818181818182, prob: 0.9751446422809448\n",
      "t_max: 17.11111111111111, prob: 0.9780073396114329\n",
      "t_max: 17.404040404040405, prob: 0.98106681604075\n",
      "t_max: 17.696969696969695, prob: 0.9838135762358389\n",
      "t_max: 17.98989898989899, prob: 0.9858059431127033\n",
      "t_max: 18.282828282828284, prob: 0.9867647595240737\n",
      "t_max: 18.575757575757574, prob: 0.9866269430903739\n",
      "t_max: 18.86868686868687, prob: 0.985544061450451\n",
      "t_max: 19.161616161616163, prob: 0.9838385940760448\n",
      "t_max: 19.454545454545453, prob: 0.981934334745109\n",
      "t_max: 19.747474747474747, prob: 0.980270434941619\n",
      "t_max: 20.04040404040404, prob: 0.9792119829978464\n",
      "t_max: 20.333333333333332, prob: 0.9789784029793501\n",
      "t_max: 20.626262626262626, prob: 0.9796096205478375\n",
      "t_max: 20.91919191919192, prob: 0.980974206214919\n",
      "t_max: 21.21212121212121, prob: 0.982809073329305\n",
      "t_max: 21.505050505050505, prob: 0.9847800251944833\n",
      "t_max: 21.7979797979798, prob: 0.9865538153399424\n",
      "t_max: 22.09090909090909, prob: 0.9878673857715295\n",
      "t_max: 22.383838383838384, prob: 0.9885774322031674\n",
      "t_max: 22.67676767676768, prob: 0.9886785544155368\n",
      "t_max: 22.96969696969697, prob: 0.9882905692516798\n",
      "t_max: 23.262626262626263, prob: 0.98762407703331\n",
      "t_max: 23.555555555555557, prob: 0.9869314441808422\n",
      "t_max: 23.848484848484848, prob: 0.9864512018399166\n",
      "t_max: 24.141414141414142, prob: 0.9863587820158304\n",
      "t_max: 24.434343434343432, prob: 0.9867350311915617\n",
      "t_max: 24.727272727272727, prob: 0.9875576019607607\n",
      "t_max: 25.02020202020202, prob: 0.9887127316237421\n",
      "t_max: 25.31313131313131, prob: 0.9900216601763554\n",
      "t_max: 25.606060606060606, prob: 0.9912783235106549\n",
      "t_max: 25.8989898989899, prob: 0.9922926870592715\n",
      "t_max: 26.19191919191919, prob: 0.9929292654744915\n",
      "t_max: 26.484848484848484, prob: 0.9931318562357894\n",
      "t_max: 26.77777777777778, prob: 0.9929309141938338\n",
      "t_max: 27.07070707070707, prob: 0.9924349128219956\n",
      "t_max: 27.363636363636363, prob: 0.9918075944145961\n",
      "t_max: 27.656565656565657, prob: 0.9912329152569173\n",
      "t_max: 27.949494949494948, prob: 0.99087549485764\n",
      "t_max: 28.242424242424242, prob: 0.9908478287284813\n",
      "t_max: 28.535353535353536, prob: 0.9911908339670435\n",
      "t_max: 28.828282828282827, prob: 0.9918693457616764\n",
      "t_max: 29.12121212121212, prob: 0.9927822763908628\n",
      "t_max: 29.414141414141415, prob: 0.9937863151422028\n",
      "t_max: 29.707070707070706, prob: 0.9947286172725455\n",
      "t_max: 30.0, prob: 0.9954790735715586\n"
     ]
    }
   ],
   "source": [
    "for i in range(len(probs)):\n",
    "    print(f't_max: {t_maxs[i]}, prob: {probs[i]}')"
   ]
  },
  {
   "cell_type": "markdown",
   "metadata": {},
   "source": [
    "### Time-dependent controls plot"
   ]
  },
  {
   "cell_type": "code",
   "execution_count": 19,
   "metadata": {},
   "outputs": [
    {
     "data": {
      "image/png": "[encoded data removed]",
      "text/plain": [
       "<Figure size 300x300 with 1 Axes>"
      ]
     },
     "metadata": {},
     "output_type": "display_data"
    }
   ],
   "source": [
    "def A(t, t_max):\n",
    "    return 1 - t/t_max\n",
    "\n",
    "def B(t, t_max):\n",
    "    return t/t_max\n",
    "\n",
    "t_max = 100\n",
    "t = np.linspace(0, t_max)\n",
    "\n",
    "plt.figure(figsize=(3, 3))\n",
    "\n",
    "plt.plot(t/t_max, A(t, t_max), color=\"#68246D\")\n",
    "plt.plot(t/t_max, B(t, t_max), color=\"#085296\")\n",
    "\n",
    "plt.text(0.52, 0.05, r'$A(t) = 1 - t/t_\\mathrm{max}$', color=\"#68246D\", bbox=dict(boxstyle='round,pad=0.3', edgecolor='#68246D', facecolor='white'))\n",
    "plt.text(0.52, 0.84, r'$B(t) = t/t_\\mathrm{max}$', color=\"#085296\", bbox=dict(boxstyle='round,pad=0.3', edgecolor='#085296', facecolor='white'))\n",
    "\n",
    "plt.xlabel(r'$t / t_\\mathrm{max}$')\n",
    "plt.ylabel('Time-dependent control')\n",
    "\n",
    "plt.savefig('time_controls.png', transparent=True, bbox_inches='tight')"
   ]
  },
  {
   "cell_type": "markdown",
   "metadata": {},
   "source": [
    "### Plot the energy of the system"
   ]
  },
  {
   "cell_type": "code",
   "execution_count": 20,
   "metadata": {},
   "outputs": [
    {
     "name": "stdout",
     "output_type": "stream",
     "text": [
      "[-6.5 -5.5 -5.5 -5.5 -5.5 -4.5 -4.5 -4.5 -4.5 -4.5 -3.5 -2.5 -2.5 -1.5\n",
      " -1.5 -1.5 -1.5 -1.5 -1.5  0.5  1.5  1.5  1.5  1.5  1.5  4.5  5.5  5.5\n",
      "  8.5  8.5 12.5 15.5]\n"
     ]
    }
   ],
   "source": [
    "print(np.sort(np.diag(H_ising)))"
   ]
  },
  {
   "cell_type": "code",
   "execution_count": 40,
   "metadata": {},
   "outputs": [
    {
     "data": {
      "image/png": "[encoded data removed]",
      "text/plain": [
       "<Figure size 500x300 with 1 Axes>"
      ]
     },
     "metadata": {},
     "output_type": "display_data"
    }
   ],
   "source": [
    "q = 1000\n",
    "phi = generate_initial_wavefunction(n)\n",
    "t_max = 18\n",
    "\n",
    "plt.figure(figsize=(5, 3))\n",
    "\n",
    "x = np.linspace(0, 1, q)\n",
    "\n",
    "num_energies = 16\n",
    "\n",
    "energies = np.zeros((num_energies, q))\n",
    "\n",
    "for j in range(q):\n",
    "    t = j * t_max / q\n",
    "    H = time_dependent_H(t, t_max, H_ising, n)\n",
    "    phi = evolve_phi(phi, t, t_max, q, H_ising, n)\n",
    "\n",
    "    eigenvals, eigenvectors = np.linalg.eig(H)\n",
    "    \n",
    "    sorted_eigenvals = np.sort(eigenvals)\n",
    "    k = 0\n",
    "    m = 0\n",
    "    energy = -np.inf\n",
    "\n",
    "    while m < num_energies and k < len(sorted_eigenvals):\n",
    "        # if not np.isclose(energy, np.round(sorted_eigenvals[k], 1)):\n",
    "        energies[m, j] = sorted_eigenvals[k]\n",
    "        m += 1\n",
    "        k += 1\n",
    "\n",
    "colours = cm.rainbow(np.linspace(0, 1, num_energies))\n",
    "\n",
    "for m in range(num_energies):\n",
    "    # if m in (0, 1, 6):\n",
    "    if m == 0:\n",
    "        plt.plot(x, energies[m], color='#250178')\n",
    "    else:\n",
    "        plt.plot(x, energies[m], color=colours[m])\n",
    "\n",
    "# colours = ['#993366', '#68246D', '#250178']\n",
    "fontdict = {'fontsize':10}\n",
    "\n",
    "plt.text(0.1, -5.3, 'Ground State', fontdict, bbox=dict(boxstyle='round,pad=0.3', edgecolor='#250178', facecolor='white'))\n",
    "# plt.text(0.05, -2.7, 'First-excited State', fontdict, bbox=dict(boxstyle='round,pad=0.3', edgecolor=colours.pop(0), facecolor='white'))\n",
    "# plt.text(0.5, -1.75, 'Second-excited State', fontdict, bbox=dict(boxstyle='round,pad=0.3', edgecolor=colours.pop(0), facecolor='white'))\n",
    "\n",
    "\n",
    "plt.xlabel(r'$t / t_\\mathrm{max}$')\n",
    "plt.ylabel('Energy')\n",
    "\n",
    "plt.savefig('energy_levels_degen.png', transparent=True, bbox_inches='tight')\n"
   ]
  },
  {
   "cell_type": "markdown",
   "metadata": {},
   "source": [
    "### Superposition animation"
   ]
  },
  {
   "cell_type": "markdown",
   "metadata": {},
   "source": [
    "Define the basis matrix $B$"
   ]
  },
  {
   "cell_type": "code",
   "execution_count": 45,
   "metadata": {},
   "outputs": [],
   "source": [
    "B = np.identity(2**n)"
   ]
  },
  {
   "cell_type": "markdown",
   "metadata": {},
   "source": [
    "Create plot"
   ]
  },
  {
   "cell_type": "code",
   "execution_count": 46,
   "metadata": {},
   "outputs": [],
   "source": [
    "def int_to_ket(i, n):\n",
    "    # Convert an integer to the ket vector representation\n",
    "    binary_str = format(i, f'0{n}b')\n",
    "    return r'$|{} \\rangle$'.format(binary_str)\n",
    "\n",
    "kets = [int_to_ket(i, n) for i in range(2**n)]"
   ]
  },
  {
   "cell_type": "code",
   "execution_count": 54,
   "metadata": {},
   "outputs": [
    {
     "name": "stdout",
     "output_type": "stream",
     "text": [
      "0\n",
      "0\n",
      "10\n",
      "20\n",
      "30\n",
      "40\n",
      "50\n",
      "60\n",
      "70\n",
      "80\n",
      "90\n",
      "100\n",
      "110\n",
      "120\n",
      "130\n",
      "140\n",
      "150\n",
      "160\n",
      "170\n",
      "180\n",
      "190\n"
     ]
    },
    {
     "data": {
      "image/png": "[encoded data removed]",
      "text/plain": [
       "<Figure size 800x1000 with 1 Axes>"
      ]
     },
     "metadata": {},
     "output_type": "display_data"
    }
   ],
   "source": [
    "# Set up axis\n",
    "fig, ax = plt.subplots(figsize=(8, 10))\n",
    "\n",
    "ax.set_title('Instantaneous probability of measuring ' + r'$|\\psi\\rangle $' + ' in each basis state ' + r'$|j\\rangle$')\n",
    "ax.set_xlabel(r'$P\\left( |j\\rangle ; | \\psi(t) \\rangle\\right)$')\n",
    "ax.set_ylabel(r'$|j\\rangle$')\n",
    "\n",
    "ax.set_yticks(range(2**n))\n",
    "ax.set_yticklabels(kets)\n",
    "\n",
    "ax.set_xlim(0, 1)\n",
    "ax.set_ylim(-1, 32)\n",
    "\n",
    "t_max = 18\n",
    "q = 200\n",
    "phi = generate_initial_wavefunction(n)\n",
    "\n",
    "projections = ((np.abs(np.dot(phi.T, B)))**2)[0]\n",
    "bar_width = 0.8  # Adjust as needed\n",
    "bar_distance = 0.2  # Adjust as needed\n",
    "\n",
    "bars = ax.barh(np.arange(len(projections)), projections, height=bar_width, align='center', color='#250178')\n",
    "\n",
    "text = ax.text(0.9, 30, 't = 0s')\n",
    "\n",
    "def update(j, t_max, q, H_ising, n):\n",
    "    # Print progress\n",
    "    if j % 10 == 0:\n",
    "        print(j)\n",
    "\n",
    "    # Calculate phi in this frame\n",
    "    global phi\n",
    "    phi = evolve_phi(phi, j*t_max/q, t_max, q, H_ising, n)\n",
    "\n",
    "    # Calculate the projection of phi in the basis B\n",
    "    projections = ((np.abs(np.dot(phi.T, B)))**2)[0]\n",
    "\n",
    "    # Update the bars\n",
    "    for bar, height in zip(bars, projections):\n",
    "            bar.set_width(height)\n",
    "\n",
    "    # Add t_max to the corner\n",
    "    text.set_text(r'$t = $' + str(j*t_max/q)) \n",
    "\n",
    "anim = FuncAnimation(\n",
    "    fig, \n",
    "    partial(update, t_max=t_max, q=q, H_ising=H_ising, n=n),\n",
    "    frames=np.arange(0, q, 1), \n",
    "    interval=10\n",
    "    )\n",
    "\n",
    "# Set higher memory limit\n",
    "matplotlib.rcParams['animation.embed_limit'] = 2**128\n",
    "\n",
    "writergif = animation.PillowWriter(fps=30)\n",
    "anim.save('t_max_18.gif',writer=writergif)"
   ]
  },
  {
   "cell_type": "markdown",
   "metadata": {},
   "source": [
    "## Poster ideas\n",
    "\n",
    "- Could add a QR code leading to gif - make gif look nicer\n",
    "- Make graph look nicer \n",
    "- Talk more directly about results, what does the graph mean, what does success probability mean etc\n",
    "    - Explain the superposition stuff better, describe the components thing\n",
    "- Discuss t_max > 100 maybe? - could be worth changing the name from t_max because it's a bit misleading\n",
    "\n",
    "- What matters is $\\tau = t_\\mathrm{max} / q$, the time each interval takes. Increasing $\\tau$ gets us closer to a truly adiabatic process ($\\lim \\tau \\rightarrow \\infty$ for truly adiabatic process)\n",
    "- Abstract needs changing"
   ]
  },
  {
   "cell_type": "code",
   "execution_count": null,
   "metadata": {},
   "outputs": [],
   "source": []
  }
 ],
 "metadata": {
  "kernelspec": {
   "display_name": "Python 3",
   "language": "python",
   "name": "python3"
  },
  "language_info": {
   "codemirror_mode": {
    "name": "ipython",
    "version": 3
   },
   "file_extension": ".py",
   "mimetype": "text/x-python",
   "name": "python",
   "nbconvert_exporter": "python",
   "pygments_lexer": "ipython3",
   "version": "3.10.5"
  },
  "orig_nbformat": 4
 },
 "nbformat": 4,
 "nbformat_minor": 2
}
