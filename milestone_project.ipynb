{
 "cells": [
  {
   "cell_type": "markdown",
   "metadata": {},
   "source": [
    "# Milestone Project\n",
    "\n",
    "The goal is to simulate the quantum adiabatic algorithm solving a small instance of maximum independence set on the graph defined by the adjacency matrix $M$, where\n",
    "\n",
    "$$ \n",
    "M = \\begin{pmatrix}\n",
    "0 & 1 & 1 & 0 & 0 \\\\\n",
    "0 & 0 & 1 & 0 & 1 \\\\\n",
    "0 & 0 & 0 & 1 & 1 \\\\\n",
    "0 & 0 & 0 & 0 & 0 \\\\\n",
    "0 & 0 & 0 & 0 & 0 \n",
    "\\end{pmatrix}  \n",
    "$$\n",
    "\n",
    "### Method\n",
    "1. Construct $H_{\\mathrm{Ising}}$ for this graph\n",
    "2. Verify that the lowest energy state is indeed the maximum independent set $|10011\\rangle$, which is represented by a column vector of length $2^5$ with a one in the 19<sup>th</sup> position, and zeros elsewhere\n",
    "3. Simulate an adiabatic algorithm solving the problem with a time dependent Hamiltonian \n"
   ]
  },
  {
   "cell_type": "markdown",
   "metadata": {},
   "source": [
    "#### Import necessary libraries"
   ]
  },
  {
   "cell_type": "code",
   "execution_count": 2,
   "metadata": {},
   "outputs": [],
   "source": [
    "import numpy as np\n",
    "import scipy as sc\n",
    "import matplotlib\n",
    "import matplotlib.pyplot as plt\n",
    "from matplotlib import animation\n",
    "from matplotlib.animation import FuncAnimation\n",
    "from functools import partial\n",
    "from IPython.display import HTML"
   ]
  },
  {
   "cell_type": "markdown",
   "metadata": {},
   "source": [
    "#### Helper functions"
   ]
  },
  {
   "cell_type": "code",
   "execution_count": 3,
   "metadata": {},
   "outputs": [
    {
     "name": "stdout",
     "output_type": "stream",
     "text": [
      "[[ 1.  0.  0.  0.  0.  0.  0.  0.]\n",
      " [ 0.  1.  0.  0.  0.  0.  0.  0.]\n",
      " [ 0.  0. -1. -0.  0.  0. -0. -0.]\n",
      " [ 0.  0. -0. -1.  0.  0. -0. -0.]\n",
      " [ 0.  0.  0.  0.  1.  0.  0.  0.]\n",
      " [ 0.  0.  0.  0.  0.  1.  0.  0.]\n",
      " [ 0.  0. -0. -0.  0.  0. -1. -0.]\n",
      " [ 0.  0. -0. -0.  0.  0. -0. -1.]]\n"
     ]
    }
   ],
   "source": [
    "pauli_matrices = {\n",
    "    'x':np.matrix(([0, 1], [1, 0])),\n",
    "    'y':np.matrix(([0, -1j], [1j, 0]), dtype=complex),\n",
    "    'z':np.matrix(([1, 0], [0, -1]))\n",
    "}\n",
    "\n",
    "def generate_sigma_j(j: int, axis: str, n:int) -> np.matrix:\n",
    "    \"\"\"\n",
    "    Inputs:\n",
    "    j: the qubit being operated on\n",
    "    axis: x, y or z \n",
    "    n: number of qubits in the system\n",
    "    Returns:\n",
    "    Matrix representation of the axis pauli operation\n",
    "    on the jth qubit\n",
    "    \"\"\"\n",
    "    # Set pauli matrix according to input axis\n",
    "    sigma = pauli_matrices[axis]\n",
    "    \n",
    "    # Initialise sigma_j as 1\n",
    "    sigma_j = 1\n",
    "\n",
    "    # Iterate through to n\n",
    "    for i in range(n):\n",
    "        if i == j:\n",
    "            sigma_j = np.kron(sigma_j, sigma)\n",
    "        else:\n",
    "            sigma_j = np.kron(sigma_j, np.identity(2))\n",
    "    \n",
    "    return sigma_j\n",
    "\n",
    "print(generate_sigma_j(1, 'z', 3))"
   ]
  },
  {
   "cell_type": "markdown",
   "metadata": {},
   "source": [
    "#### 1. Construct $H_{\\mathrm{Ising}}$\n",
    "$$\n",
    "H_{\\mathrm{Ising}} = \\sum_{k = 1}^n \\sum_{j = k + 1} ^ n J_{kj} \\sigma_k^z \\sigma_j^z + \\sum_{j=1}^n h_j \\sigma_j^z,\n",
    "$$\n",
    "where $J = M$, and\n",
    "$$\n",
    "h_k = -\\sum_{j=1}^n(M_{kj} + M_{jk}) + \\kappa\n",
    "$$"
   ]
  },
  {
   "cell_type": "code",
   "execution_count": 4,
   "metadata": {},
   "outputs": [],
   "source": [
    "def generate_strengths(M: np.matrix, kappa:float) -> tuple[np.matrix, np.ndarray]:\n",
    "    \"\"\"\n",
    "    Inputs are M the adjacancy matrix and kappa the variable that rewards\n",
    "    more independence\n",
    "    Returns J and h, the coupling and field strengths respectively\n",
    "    \"\"\"\n",
    "    # Set n to be the number of qubits in the system\n",
    "    n = M.shape[0]\n",
    "\n",
    "    # Initialise h as an array of kappas\n",
    "    h = np.ones((n)) * kappa\n",
    "\n",
    "    # Generate h - TODO method could probably be vectorised\n",
    "    for k in range(n):\n",
    "        for j in range(n):\n",
    "            h[k] += -(M[k, j] + M[j, k])\n",
    "    \n",
    "    return M, h\n",
    "\n",
    "def construct_H_ising(J: np.ndarray, h: np.ndarray) -> np.matrix:\n",
    "    \"\"\"\n",
    "    Inputs: J and h are the coupling and field strengths respectively\n",
    "    Returns: The Ising Hamiltonian, a 2^n x 2^n matrix\n",
    "    \"\"\"\n",
    "    n = h.size\n",
    "    H_ising = np.zeros((2**n, 2**n))\n",
    "\n",
    "    # Add the first sum\n",
    "    for k in range(n):\n",
    "        for j in range(k + 1, n):\n",
    "            sigma_j = generate_sigma_j(j, 'z', n)\n",
    "            sigma_k = generate_sigma_j(k, 'z', n)\n",
    "            H_ising += J[k, j] * sigma_k * sigma_j\n",
    "    \n",
    "    # Add the second sum\n",
    "    for j in range(n):\n",
    "        sigma_j = generate_sigma_j(j, 'z', n)\n",
    "        H_ising += h[j] * sigma_j\n",
    "\n",
    "    return H_ising"
   ]
  },
  {
   "cell_type": "markdown",
   "metadata": {},
   "source": [
    "##### Test these functions with the example from the project book.\n",
    "\n",
    "For the three qubit problem defined by the graph represented by the adjacency matrix\n",
    "\n",
    "$$\n",
    "M = \\begin{pmatrix}\n",
    "0 & 1 & 0 \\\\\n",
    "0 & 0 & 1 \\\\\n",
    "0 & 0 & 0 \n",
    "\\end{pmatrix}\n",
    "$$\n",
    "\n",
    "we can check if our functions generate the expected Ising Hamiltonian."
   ]
  },
  {
   "cell_type": "code",
   "execution_count": 5,
   "metadata": {},
   "outputs": [
    {
     "name": "stdout",
     "output_type": "stream",
     "text": [
      "Test 1 passed! Generated correct field strengths.\n",
      "Test 2 passed! Generated correct Ising Hamiltonian.\n"
     ]
    }
   ],
   "source": [
    "kappa_test = 0.5\n",
    "M_test = np.matrix([\n",
    "    [0, 1, 0],\n",
    "    [0, 0, 1],\n",
    "    [0, 0, 0]\n",
    "])\n",
    "expected_h_test = np.diag(np.array([\n",
    "    -2 + 3*kappa_test, \n",
    "    -2 + kappa_test,\n",
    "    -2 + kappa_test, \n",
    "    2 - kappa_test,\n",
    "    -2 + kappa_test,\n",
    "    -2 - kappa_test,\n",
    "    2 - kappa_test,\n",
    "    6 - 3*kappa_test\n",
    "]))\n",
    "\n",
    "J_test, h_test = generate_strengths(M_test, kappa_test)\n",
    "\n",
    "if np.array_equal(h_test, np.array([-0.5, -1.5, -0.5])):\n",
    "    print(\"Test 1 passed! Generated correct field strengths.\")\n",
    "else:\n",
    "    print(f\"Test 1 failed, expected\\n {np.array([-0.5, -1.5, -0.5])},\\n got {h_test}\")\n",
    "\n",
    "my_h_test = construct_H_ising(J_test, h_test)\n",
    "\n",
    "if np.array_equal(my_h_test, expected_h_test):\n",
    "    print(\"Test 2 passed! Generated correct Ising Hamiltonian.\")\n",
    "else:\n",
    "    print(f\"Test failed, expected \\n {expected_h_test},\\n got \\n {my_h_test}.\")"
   ]
  },
  {
   "cell_type": "markdown",
   "metadata": {},
   "source": [
    "Assuming they passed, we can generate the project Hamiltonian"
   ]
  },
  {
   "cell_type": "code",
   "execution_count": 6,
   "metadata": {},
   "outputs": [
    {
     "data": {
      "text/plain": [
       "array([[-3.5,  0. ,  0. , ...,  0. ,  0. ,  0. ],\n",
       "       [ 0. , -4.5,  0. , ...,  0. ,  0. ,  0. ],\n",
       "       [ 0. ,  0. , -4.5, ...,  0. ,  0. ,  0. ],\n",
       "       ...,\n",
       "       [ 0. ,  0. ,  0. , ..., 12.5,  0. ,  0. ],\n",
       "       [ 0. ,  0. ,  0. , ...,  0. ,  8.5,  0. ],\n",
       "       [ 0. ,  0. ,  0. , ...,  0. ,  0. , 15.5]])"
      ]
     },
     "execution_count": 6,
     "metadata": {},
     "output_type": "execute_result"
    }
   ],
   "source": [
    "kappa = 0.5\n",
    "M = np.matrix([\n",
    "    [0, 1, 1, 0, 0],\n",
    "    [0, 0, 1, 0, 1],\n",
    "    [0, 0, 0, 1, 1],\n",
    "    [0, 0, 0, 0, 0],\n",
    "    [0, 0, 0, 0, 0]\n",
    "])\n",
    "\n",
    "J, h = generate_strengths(M, kappa)\n",
    "\n",
    "H_ising = construct_H_ising(J, h)\n",
    "\n",
    "H_ising"
   ]
  },
  {
   "cell_type": "markdown",
   "metadata": {},
   "source": [
    "#### 2. Verify correct lowest energy state is in the 19th column\n"
   ]
  },
  {
   "cell_type": "code",
   "execution_count": 7,
   "metadata": {},
   "outputs": [
    {
     "name": "stdout",
     "output_type": "stream",
     "text": [
      "Lowest energy state is as expected.\n"
     ]
    }
   ],
   "source": [
    "if np.min(H_ising) == H_ising[19][19]:\n",
    "    print(\"Lowest energy state is as expected.\")\n",
    "else:\n",
    "    print(\"Lowest energy state is not where we expect to find it.\")"
   ]
  },
  {
   "cell_type": "markdown",
   "metadata": {},
   "source": [
    "#### 3. Simulate an adiabatic algorithm, solving the problem with a time dependent Hamiltonian\n",
    "\n",
    "First, define the function for the time-dependent Hamiltonian,\n",
    "\n",
    "$$\n",
    "H(t) = -A(t) \\sum_j \\sigma_j^x + B(t)H_{\\mathrm{Ising}},\n",
    "$$\n",
    "\n",
    "where $A(t) = 1 - t/t_{\\mathrm{max}}$ and $B(t) = t/t_{\\mathrm{max}}$ are the time-dependent controls."
   ]
  },
  {
   "cell_type": "code",
   "execution_count": 8,
   "metadata": {},
   "outputs": [],
   "source": [
    "def time_dependent_H(t: float, t_max: int, H_ising: np.matrix, n: int) -> np.matrix:\n",
    "    \"\"\"\n",
    "    Inputs:\n",
    "    t: time\n",
    "    t_max: max time\n",
    "    H_isising: the problem Hamiltonian\n",
    "    n: the number of qubits in the system\n",
    "    \"\"\"  \n",
    "    A = 1 - t/t_max\n",
    "    B = t/t_max\n",
    "\n",
    "    H = B * H_ising\n",
    "\n",
    "    for j in range(n):\n",
    "        H -= A * generate_sigma_j(j, 'x', n)\n",
    "    \n",
    "    return H"
   ]
  },
  {
   "cell_type": "markdown",
   "metadata": {},
   "source": [
    "Form the initial wavefunction, the ground state of the initial Hamiltonian. Since, at $t = 0$, $B=0$ and $A>0$, the ground state will just be the highest energy state of each $\\sigma^x$ individually.\n",
    "$$\n",
    "| \\phi_0 \\left ( A>0, B=0\\right)\\rangle = \\bigotimes _{j=1}^n | + \\rangle\n",
    "$$"
   ]
  },
  {
   "cell_type": "code",
   "execution_count": 9,
   "metadata": {},
   "outputs": [],
   "source": [
    "def generate_initial_wavefunction(n: int) -> np.ndarray:\n",
    "    \"\"\"\n",
    "    Inputs:\n",
    "    n: number of qubits\n",
    "    Returns:\n",
    "    The ground state of the Hamiltonian at t=0\n",
    "    \"\"\"\n",
    "    phi = 1\n",
    "    max_state = np.array([[1, 1]]).T / np.sqrt(2)\n",
    "\n",
    "    for _ in range(n):\n",
    "        phi = np.kron(phi, max_state)\n",
    "    \n",
    "    return phi"
   ]
  },
  {
   "cell_type": "code",
   "execution_count": 10,
   "metadata": {},
   "outputs": [],
   "source": [
    "n = M.shape[0]\n",
    "phi_0 = generate_initial_wavefunction(n)"
   ]
  },
  {
   "cell_type": "markdown",
   "metadata": {},
   "source": [
    "We also need the vector $|19\\rangle$ to calculate the probability that our solution is correct"
   ]
  },
  {
   "cell_type": "code",
   "execution_count": 11,
   "metadata": {},
   "outputs": [],
   "source": [
    "def generate_vector_j(j: int, n: int) -> np.ndarray:\n",
    "    \"\"\"\n",
    "    Returns a column vector with all values 0 except at j where it is 1\n",
    "    \"\"\"\n",
    "    vector = np.zeros((1, 2**n))\n",
    "    vector[:,j] = 1\n",
    "\n",
    "    return vector.T"
   ]
  },
  {
   "cell_type": "markdown",
   "metadata": {},
   "source": [
    "And the time evolution operator\n",
    "\n",
    "$$\n",
    "U\\left(\\frac{k t_\\mathrm{max}}{q}, 0\\right) = \\mathcal{T}\\prod_{j=1}^k \\exp \\left ( -i \\frac{t_\\mathrm{max}}{q} H \\left(\\frac{j t_\\mathrm{max}}{q}\\right) \\right)\n",
    "$$"
   ]
  },
  {
   "cell_type": "code",
   "execution_count": 12,
   "metadata": {},
   "outputs": [],
   "source": [
    "def time_evolution(q: int, t_max: int, H: np.matrix, phi: np.ndarray) -> np.ndarray:\n",
    "    \"\"\"\n",
    "    Inputs:\n",
    "    q: number of time divisions\n",
    "    t_max: total time\n",
    "    H: time dependent Hamiltonian evaluated at t\n",
    "    phi: current wavefunction\n",
    "    Returns:\n",
    "    The time evolved wavefunction\n",
    "    \"\"\"\n",
    "    return np.matmul(sc.linalg.expm(-1j *t_max/ q * H), phi)"
   ]
  },
  {
   "cell_type": "markdown",
   "metadata": {},
   "source": [
    "Now, vary $t$ from $0$ to $t_{\\mathrm{max}}$ in $q$ steps. "
   ]
  },
  {
   "cell_type": "code",
   "execution_count": 13,
   "metadata": {},
   "outputs": [],
   "source": [
    "def evolve_phi(\n",
    "        phi: np.ndarray,\n",
    "        t: float,\n",
    "        t_max: int,\n",
    "        q: int,\n",
    "        H_ising: np.ndarray,\n",
    "        n: int\n",
    "        ) -> list[float]:\n",
    "    \"\"\"\n",
    "    For a given function phi = phi(t - t_max/q), returns\n",
    "    phi(t)\n",
    "    \"\"\"\n",
    "\n",
    "    # Generate the Hamiltonian at time t\n",
    "    H = time_dependent_H(t, t_max, H_ising, n)\n",
    "\n",
    "    # Evolve the wavefunction from t -> t + 1/q\n",
    "    phi = time_evolution(q, t_max, H, phi)\n",
    "\n",
    "    return phi"
   ]
  },
  {
   "cell_type": "code",
   "execution_count": 14,
   "metadata": {},
   "outputs": [],
   "source": [
    "def generate_probabilities(\n",
    "        q: int, \n",
    "        t_max: int,\n",
    "        H_ising: np.matrix, \n",
    "        n: int, \n",
    "        phi_expected: np.ndarray\n",
    "        ) -> list[float]:\n",
    "    \"\"\"\n",
    "    Inputs:\n",
    "    q: the number of time increments\n",
    "    t_max: the maximum time\n",
    "    H_ising: the problem Hamilonian\n",
    "    n: the number of qubits\n",
    "    expected_vector: the ground state of the Ising Hamiltonian\n",
    "    Returns:\n",
    "    A list of the probabilities that the system has the expected wavefunction\n",
    "    for times t in [0, t_max]  \n",
    "    \"\"\"\n",
    "    probs = []\n",
    "    phi = phi_0\n",
    "\n",
    "    for j in range(q):\n",
    "        t = j * t_max / q\n",
    "        phi = evolve_phi(phi, t, t_max, q, H_ising, n)\n",
    "\n",
    "        # Calculate the probability that phi represents the expected vector_19\n",
    "        prob = (np.abs(np.dot(phi.T, phi_expected))**2)[0][0] \n",
    "\n",
    "        probs.append(prob)\n",
    "    \n",
    "    return probs"
   ]
  },
  {
   "cell_type": "code",
   "execution_count": 120,
   "metadata": {},
   "outputs": [],
   "source": [
    "plt.rcParams.update({\n",
    "    \"text.usetex\": True,\n",
    "    \"font.family\": 'serif',\n",
    "    \"font.size\": 12\n",
    "})"
   ]
  },
  {
   "cell_type": "code",
   "execution_count": 16,
   "metadata": {},
   "outputs": [],
   "source": [
    "from matplotlib import cm"
   ]
  },
  {
   "cell_type": "code",
   "execution_count": 106,
   "metadata": {},
   "outputs": [
    {
     "name": "stdout",
     "output_type": "stream",
     "text": [
      "1 0.0624739521971188\n",
      "3 0.14507242710058635\n",
      "5 0.4503613990208067\n",
      "10 0.8748780479093506\n",
      "1000 0.9999293400445898\n"
     ]
    },
    {
     "data": {
      "text/plain": [
       "<matplotlib.legend.Legend at 0x23fd98428f0>"
      ]
     },
     "execution_count": 106,
     "metadata": {},
     "output_type": "execute_result"
    },
    {
     "data": {
      "image/png": "[encoded data removed]",
      "text/plain": [
       "<Figure size 640x480 with 1 Axes>"
      ]
     },
     "metadata": {},
     "output_type": "display_data"
    }
   ],
   "source": [
    "q = 1000\n",
    "t_maxs = [1, 3, 5, 10, 1000]\n",
    "# t_maxs = [1000]\n",
    "phi_expected = generate_vector_j(19, n)\n",
    "\n",
    "colours = cm.rainbow(np.linspace(0, 1, len(t_maxs)))\n",
    "\n",
    "for i, t_max in enumerate(t_maxs):\n",
    "    # Calculate the probabilities\n",
    "    probs = generate_probabilities(q, t_max, H_ising, n, phi_expected)\n",
    "\n",
    "    # Find the phi_expected component of the final state\n",
    "    final_prob = probs[-1]\n",
    "    print(t_max, final_prob)\n",
    "\n",
    "    # Plot a dotted horizontal line at y=final_prob\n",
    "    plt.axhline(final_prob, linestyle='--', color='gray')\n",
    "\n",
    "    # Label the line\n",
    "    plt.text(1.01, final_prob, f'{final_prob:.2f}', \n",
    "             va='center', ha='left', \n",
    "             bbox=dict(boxstyle='round,pad=0.3', edgecolor='black', facecolor='white'))\n",
    "\n",
    "    times = np.linspace(0, 1, q)\n",
    "    plt.plot(times, probs, label=t_max, color=colours[i])\n",
    "\n",
    "plt.xlabel(r'$t / t_\\mathrm{max}$')\n",
    "plt.ylabel('Probability of Success')\n",
    "plt.legend(title=r'$t_\\mathrm{max}$', fontsize='10')\n",
    "# plt.savefig('milestone.png', transparent=True)"
   ]
  },
  {
   "cell_type": "markdown",
   "metadata": {},
   "source": [
    "### Time-dependent controls plot"
   ]
  },
  {
   "cell_type": "code",
   "execution_count": 146,
   "metadata": {},
   "outputs": [
    {
     "data": {
      "image/png": "[encoded data removed]",
      "text/plain": [
       "<Figure size 500x300 with 1 Axes>"
      ]
     },
     "metadata": {},
     "output_type": "display_data"
    }
   ],
   "source": [
    "def A(t, t_max):\n",
    "    return 1 - t/t_max\n",
    "\n",
    "def B(t, t_max):\n",
    "    return t/t_max\n",
    "\n",
    "t_max = 100\n",
    "t = np.linspace(0, t_max)\n",
    "\n",
    "plt.figure(figsize=(5, 3))\n",
    "\n",
    "plt.plot(t/t_max, A(t, t_max), color=\"#68246D\")\n",
    "plt.plot(t/t_max, B(t, t_max), color=\"#085296\")\n",
    "\n",
    "plt.text(0.52, 0.05, r'$A(t) = 1 - t/t_\\mathrm{max}$', color=\"#68246D\", bbox=dict(boxstyle='round,pad=0.3', edgecolor='#68246D', facecolor='white'))\n",
    "plt.text(0.52, 0.84, r'$B(t) = t/t_\\mathrm{max}$', color=\"#085296\", bbox=dict(boxstyle='round,pad=0.3', edgecolor='#085296', facecolor='white'))\n",
    "\n",
    "plt.xlabel(r'$t / t_\\mathrm{max}$')\n",
    "plt.ylabel('Time-dependent control')\n",
    "\n",
    "plt.savefig('time_controls.png', transparent=True, bbox_inches='tight')"
   ]
  },
  {
   "cell_type": "markdown",
   "metadata": {},
   "source": [
    "### Plot the energy of the system"
   ]
  },
  {
   "cell_type": "code",
   "execution_count": 72,
   "metadata": {},
   "outputs": [
    {
     "name": "stdout",
     "output_type": "stream",
     "text": [
      "[-6.5 -5.5 -5.5 -5.5 -5.5 -4.5 -4.5 -4.5 -4.5 -4.5 -3.5 -2.5 -2.5 -1.5\n",
      " -1.5 -1.5 -1.5 -1.5 -1.5  0.5  1.5  1.5  1.5  1.5  1.5  4.5  5.5  5.5\n",
      "  8.5  8.5 12.5 15.5]\n"
     ]
    }
   ],
   "source": [
    "print(np.sort(np.diag(H_ising)))"
   ]
  },
  {
   "cell_type": "code",
   "execution_count": 143,
   "metadata": {},
   "outputs": [
    {
     "data": {
      "image/png": "[encoded data removed]",
      "text/plain": [
       "<Figure size 500x300 with 1 Axes>"
      ]
     },
     "metadata": {},
     "output_type": "display_data"
    }
   ],
   "source": [
    "q = 1000\n",
    "phi = generate_initial_wavefunction(n)\n",
    "t_max = 100\n",
    "\n",
    "plt.figure(figsize=(5, 3))\n",
    "\n",
    "x = np.linspace(0, 1, q)\n",
    "\n",
    "num_energies = 7\n",
    "\n",
    "energies = np.zeros((num_energies, q))\n",
    "\n",
    "for j in range(q):\n",
    "    t = j * t_max / q\n",
    "    H = time_dependent_H(t, t_max, H_ising, n)\n",
    "    phi = evolve_phi(phi, t, t_max, q, H_ising, n)\n",
    "\n",
    "    eigenvals, eigenvectors = np.linalg.eig(H)\n",
    "    \n",
    "    sorted_eigenvals = np.sort(eigenvals)\n",
    "    k = 0\n",
    "    m = 0\n",
    "    energy = -np.inf\n",
    "\n",
    "    while m < num_energies and k < len(sorted_eigenvals):\n",
    "        # if not np.isclose(energy, np.round(sorted_eigenvals[k], 1)):\n",
    "        energies[m, j] = sorted_eigenvals[k]\n",
    "        m += 1\n",
    "        k += 1\n",
    "\n",
    "colours = ['#993366', '#68246D', '#250178']\n",
    "\n",
    "for m in range(num_energies):\n",
    "    if m in (0, 1, 6):\n",
    "    # if True:\n",
    "        plt.plot(x, energies[m], color=colours.pop(0))\n",
    "\n",
    "colours = ['#993366', '#68246D', '#250178']\n",
    "fontdict = {'fontsize':10}\n",
    "\n",
    "plt.text(0.1, -5, 'Ground State', fontdict, bbox=dict(boxstyle='round,pad=0.3', edgecolor=colours.pop(0), facecolor='white'))\n",
    "plt.text(0.05, -2.7, 'First-excited State', fontdict, bbox=dict(boxstyle='round,pad=0.3', edgecolor=colours.pop(0), facecolor='white'))\n",
    "plt.text(0.5, -1.75, 'Second-excited State', fontdict, bbox=dict(boxstyle='round,pad=0.3', edgecolor=colours.pop(0), facecolor='white'))\n",
    "\n",
    "\n",
    "plt.xlabel(r'$t / t_\\mathrm{max}$')\n",
    "plt.ylabel('Energy')\n",
    "\n",
    "plt.savefig('energy_levels.png', transparent=True, bbox_inches='tight')\n"
   ]
  },
  {
   "cell_type": "markdown",
   "metadata": {},
   "source": [
    "### Superposition animation"
   ]
  },
  {
   "cell_type": "markdown",
   "metadata": {},
   "source": [
    "Define the basis matrix $B$"
   ]
  },
  {
   "cell_type": "code",
   "execution_count": 150,
   "metadata": {},
   "outputs": [],
   "source": [
    "B = np.identity(2**n)"
   ]
  },
  {
   "cell_type": "markdown",
   "metadata": {},
   "source": [
    "Create plot"
   ]
  },
  {
   "cell_type": "code",
   "execution_count": 151,
   "metadata": {},
   "outputs": [],
   "source": [
    "def int_to_ket(i, n):\n",
    "    # Convert an integer to the ket vector representation\n",
    "    binary_str = format(i, f'0{n}b')\n",
    "    return r'$|{} \\rangle$'.format(binary_str)\n",
    "\n",
    "kets = [int_to_ket(i, n) for i in range(2**n)]"
   ]
  },
  {
   "cell_type": "code",
   "execution_count": 153,
   "metadata": {},
   "outputs": [
    {
     "name": "stdout",
     "output_type": "stream",
     "text": [
      "0\n",
      "0\n",
      "10\n",
      "20\n",
      "30\n",
      "40\n",
      "50\n",
      "60\n",
      "70\n",
      "80\n",
      "90\n",
      "100\n",
      "110\n",
      "120\n",
      "130\n",
      "140\n",
      "150\n",
      "160\n",
      "170\n",
      "180\n",
      "190\n",
      "200\n",
      "210\n",
      "220\n",
      "230\n",
      "240\n",
      "250\n",
      "260\n",
      "270\n",
      "280\n",
      "290\n",
      "300\n",
      "310\n",
      "320\n",
      "330\n",
      "340\n",
      "350\n",
      "360\n",
      "370\n",
      "380\n",
      "390\n",
      "400\n",
      "410\n",
      "420\n",
      "430\n",
      "440\n",
      "450\n",
      "460\n",
      "470\n",
      "480\n",
      "490\n",
      "500\n",
      "510\n",
      "520\n",
      "530\n",
      "540\n",
      "550\n",
      "560\n",
      "570\n",
      "580\n",
      "590\n",
      "600\n",
      "610\n",
      "620\n",
      "630\n",
      "640\n",
      "650\n",
      "660\n",
      "670\n",
      "680\n",
      "690\n",
      "700\n",
      "710\n",
      "720\n",
      "730\n",
      "740\n",
      "750\n",
      "760\n",
      "770\n",
      "780\n",
      "790\n",
      "800\n",
      "810\n",
      "820\n",
      "830\n",
      "840\n",
      "850\n",
      "860\n",
      "870\n",
      "880\n",
      "890\n",
      "900\n",
      "910\n",
      "920\n",
      "930\n",
      "940\n",
      "950\n",
      "960\n",
      "970\n",
      "980\n",
      "990\n"
     ]
    },
    {
     "data": {
      "image/png": "[encoded data removed]",
      "text/plain": [
       "<Figure size 1200x1000 with 1 Axes>"
      ]
     },
     "metadata": {},
     "output_type": "display_data"
    }
   ],
   "source": [
    "# Set up axis\n",
    "fig, ax = plt.subplots(figsize=(12, 10))\n",
    "\n",
    "ax.set_title('Vector Components with Respect to State Vectors')\n",
    "ax.set_xlabel('Modulus Squared of Component Value')\n",
    "ax.set_ylabel('State Vector')\n",
    "\n",
    "ax.set_yticks(range(2**n))\n",
    "ax.set_yticklabels(kets)\n",
    "\n",
    "ax.set_xlim(0, 1)\n",
    "ax.set_ylim(-1, 32)\n",
    "\n",
    "t_max = 200\n",
    "q = 1000\n",
    "phi = generate_initial_wavefunction(n)\n",
    "\n",
    "projections = ((np.abs(np.dot(phi.T, B)))**2)[0]\n",
    "bar_width = 0.8  # Adjust as needed\n",
    "bar_distance = 0.2  # Adjust as needed\n",
    "\n",
    "bars = ax.barh(np.arange(len(projections)), projections, height=bar_width, align='center')\n",
    "\n",
    "text = ax.text(0.9, 30, 't = 0s')\n",
    "\n",
    "def update(j, t_max, q, H_ising, n):\n",
    "    # Print progress\n",
    "    if j % 10 == 0:\n",
    "        print(j)\n",
    "\n",
    "    # Calculate phi in this frame\n",
    "    global phi\n",
    "    phi = evolve_phi(phi, j*t_max/q, t_max, q, H_ising, n)\n",
    "\n",
    "    # Calculate the projection of phi in the basis B\n",
    "    projections = ((np.abs(np.dot(phi.T, B)))**2)[0]\n",
    "\n",
    "    # Update the bars\n",
    "    for bar, height in zip(bars, projections):\n",
    "            bar.set_width(height)\n",
    "\n",
    "    # Add t_max to the corner\n",
    "    text.set_text('t = ' + str(j*t_max/q) + 's') \n",
    "\n",
    "anim = FuncAnimation(\n",
    "    fig, \n",
    "    partial(update, t_max=t_max, q=q, H_ising=H_ising, n=n),\n",
    "    frames=np.arange(0, q, 1), \n",
    "    interval=10\n",
    "    )\n",
    "\n",
    "# Set higher memory limit\n",
    "matplotlib.rcParams['animation.embed_limit'] = 2**128\n",
    "\n",
    "writergif = animation.PillowWriter(fps=30)\n",
    "anim.save('t_max_new.gif',writer=writergif)"
   ]
  },
  {
   "cell_type": "markdown",
   "metadata": {},
   "source": [
    "## Poster ideas\n",
    "\n",
    "- Could add a QR code leading to gif - make gif look nicer\n",
    "- Make graph look nicer \n",
    "- Talk more directly about results, what does the graph mean, what does success probability mean etc\n",
    "    - Explain the superposition stuff better, describe the components thing\n",
    "- Discuss t_max > 100 maybe? - could be worth changing the name from t_max because it's a bit misleading\n",
    "\n",
    "- What matters is $\\tau = t_\\mathrm{max} / q$, the time each interval takes. Increasing $\\tau$ gets us closer to a truly adiabatic process ($\\lim \\tau \\rightarrow \\infty$ for truly adiabatic process)\n",
    "- Abstract needs changing"
   ]
  },
  {
   "cell_type": "code",
   "execution_count": null,
   "metadata": {},
   "outputs": [],
   "source": []
  }
 ],
 "metadata": {
  "kernelspec": {
   "display_name": "Python 3",
   "language": "python",
   "name": "python3"
  },
  "language_info": {
   "codemirror_mode": {
    "name": "ipython",
    "version": 3
   },
   "file_extension": ".py",
   "mimetype": "text/x-python",
   "name": "python",
   "nbconvert_exporter": "python",
   "pygments_lexer": "ipython3",
   "version": "3.10.5"
  },
  "orig_nbformat": 4
 },
 "nbformat": 4,
 "nbformat_minor": 2
}
