{
 "cells": [
  {
   "cell_type": "markdown",
   "metadata": {},
   "source": [
    "# Milestone Project\n",
    "\n",
    "The goal is to simulate the quantum adiabatic algorithm solving a small instance of maximum independence set on the graph defined by the adjacency matrix $M$, where\n",
    "\n",
    "$$ \n",
    "M = \\begin{pmatrix}\n",
    "0 & 1 & 1 & 0 & 0 \\\\\n",
    "0 & 0 & 1 & 0 & 1 \\\\\n",
    "0 & 0 & 0 & 1 & 1 \\\\\n",
    "0 & 0 & 0 & 0 & 0 \\\\\n",
    "0 & 0 & 0 & 0 & 0 \n",
    "\\end{pmatrix}  \n",
    "$$\n",
    "\n",
    "### Method\n",
    "1. Construct $H_{\\mathrm{Ising}}$ for this graph\n",
    "2. Verify that the lowest energy state is indeed the maximum independent set $|10011\\rangle$, which is represented by a column vector of length $2^5$ with a one in the 19<sup>th</sup> position, and zeros elsewhere\n",
    "3. Simulate an adiabatic algorithm solving the problem with a time dependent Hamiltonian \n"
   ]
  },
  {
   "cell_type": "markdown",
   "metadata": {},
   "source": [
    "#### Import necessary libraries"
   ]
  },
  {
   "cell_type": "code",
   "execution_count": 77,
   "metadata": {},
   "outputs": [],
   "source": [
    "import numpy as np\n",
    "import scipy as sc\n",
    "import matplotlib\n",
    "import matplotlib.pyplot as plt\n",
    "from matplotlib import animation\n",
    "from matplotlib.animation import FuncAnimation\n",
    "from functools import partial\n",
    "from IPython.display import HTML"
   ]
  },
  {
   "cell_type": "markdown",
   "metadata": {},
   "source": [
    "#### Helper functions"
   ]
  },
  {
   "cell_type": "code",
   "execution_count": 3,
   "metadata": {},
   "outputs": [],
   "source": [
    "pauli_matrices = {\n",
    "    'x':np.matrix(([0, 1], [1, 0])),\n",
    "    'y':np.matrix(([0, -1j], [1j, 0]), dtype=complex),\n",
    "    'z':np.matrix(([1, 0], [0, -1]))\n",
    "}\n",
    "\n",
    "def generate_sigma_j(j: int, axis: str, n:int) -> np.matrix:\n",
    "    \"\"\"\n",
    "    Inputs:\n",
    "    j: the qubit being operated on\n",
    "    axis: x, y or z \n",
    "    n: number of qubits in the system\n",
    "    Returns:\n",
    "    Matrix representation of the axis pauli operation\n",
    "    on the jth qubit\n",
    "    \"\"\"\n",
    "    # Set pauli matrix according to input axis\n",
    "    sigma = pauli_matrices[axis]\n",
    "    \n",
    "    # Initialise sigma_j as 1\n",
    "    sigma_j = 1\n",
    "\n",
    "    # Iterate through to n\n",
    "    for i in range(n):\n",
    "        if i == j:\n",
    "            sigma_j = np.kron(sigma_j, sigma)\n",
    "        else:\n",
    "            sigma_j = np.kron(sigma_j, np.identity(2))\n",
    "    \n",
    "    return sigma_j"
   ]
  },
  {
   "cell_type": "markdown",
   "metadata": {},
   "source": [
    "#### 1. Construct $H_{\\mathrm{Ising}}$\n",
    "$$\n",
    "H_{\\mathrm{Ising}} = \\sum_{k = 1}^n \\sum_{j = k + 1} ^ n J_{kj} \\sigma_k^z \\sigma_j^z + \\sum_{j=1}^n h_j \\sigma_j^z,\n",
    "$$\n",
    "where $J = M$, and\n",
    "$$\n",
    "h_k = -\\sum_{j=1}^n(M_{kj} + M_{jk}) + \\kappa\n",
    "$$"
   ]
  },
  {
   "cell_type": "code",
   "execution_count": 4,
   "metadata": {},
   "outputs": [],
   "source": [
    "def generate_strengths(M: np.matrix, kappa:float) -> tuple[np.matrix, np.ndarray]:\n",
    "    \"\"\"\n",
    "    Inputs are M the adjacancy matrix and kappa the variable that rewards\n",
    "    more independence\n",
    "    Returns J and h, the coupling and field strengths respectively\n",
    "    \"\"\"\n",
    "    # Set n to be the number of qubits in the system\n",
    "    n = M.shape[0]\n",
    "\n",
    "    # Initialise h as an array of kappas\n",
    "    h = np.ones((n)) * kappa\n",
    "\n",
    "    # Generate h - TODO method could probably be vectorised\n",
    "    for k in range(n):\n",
    "        for j in range(n):\n",
    "            h[k] += -(M[k, j] + M[j, k])\n",
    "    \n",
    "    return M, h\n",
    "\n",
    "def construct_H_ising(J: np.ndarray, h: np.ndarray) -> np.matrix:\n",
    "    \"\"\"\n",
    "    Inputs: J and h are the coupling and field strengths respectively\n",
    "    Returns: The Ising Hamiltonian, a 2^n x 2^n matrix\n",
    "    \"\"\"\n",
    "    n = h.size\n",
    "    H_ising = np.zeros((2**n, 2**n))\n",
    "\n",
    "    # Add the first sum\n",
    "    for k in range(n):\n",
    "        for j in range(k + 1, n):\n",
    "            sigma_j = generate_sigma_j(j, 'z', n)\n",
    "            sigma_k = generate_sigma_j(k, 'z', n)\n",
    "            H_ising += J[k, j] * sigma_k * sigma_j\n",
    "    \n",
    "    # Add the second sum\n",
    "    for j in range(n):\n",
    "        sigma_j = generate_sigma_j(j, 'z', n)\n",
    "        H_ising += h[j] * sigma_j\n",
    "\n",
    "    return H_ising"
   ]
  },
  {
   "cell_type": "markdown",
   "metadata": {},
   "source": [
    "##### Test these functions with the example from the project book.\n",
    "\n",
    "For the three qubit problem defined by the graph represented by the adjacency matrix\n",
    "\n",
    "$$\n",
    "M = \\begin{pmatrix}\n",
    "0 & 1 & 0 \\\\\n",
    "0 & 0 & 1 \\\\\n",
    "0 & 0 & 0 \n",
    "\\end{pmatrix}\n",
    "$$\n",
    "\n",
    "we can check if our functions generate the expected Ising Hamiltonian."
   ]
  },
  {
   "cell_type": "code",
   "execution_count": 5,
   "metadata": {},
   "outputs": [
    {
     "name": "stdout",
     "output_type": "stream",
     "text": [
      "Test 1 passed! Generated correct field strengths.\n",
      "Test 2 passed! Generated correct Ising Hamiltonian.\n"
     ]
    }
   ],
   "source": [
    "kappa_test = 0.5\n",
    "M_test = np.matrix([\n",
    "    [0, 1, 0],\n",
    "    [0, 0, 1],\n",
    "    [0, 0, 0]\n",
    "])\n",
    "expected_h_test = np.diag(np.array([\n",
    "    -2 + 3*kappa_test, \n",
    "    -2 + kappa_test,\n",
    "    -2 + kappa_test, \n",
    "    2 - kappa_test,\n",
    "    -2 + kappa_test,\n",
    "    -2 - kappa_test,\n",
    "    2 - kappa_test,\n",
    "    6 - 3*kappa_test\n",
    "]))\n",
    "\n",
    "J_test, h_test = generate_strengths(M_test, kappa_test)\n",
    "\n",
    "if np.array_equal(h_test, np.array([-0.5, -1.5, -0.5])):\n",
    "    print(\"Test 1 passed! Generated correct field strengths.\")\n",
    "else:\n",
    "    print(f\"Test 1 failed, expected\\n {np.array([-0.5, -1.5, -0.5])},\\n got {h_test}\")\n",
    "\n",
    "my_h_test = construct_H_ising(J_test, h_test)\n",
    "\n",
    "if np.array_equal(my_h_test, expected_h_test):\n",
    "    print(\"Test 2 passed! Generated correct Ising Hamiltonian.\")\n",
    "else:\n",
    "    print(f\"Test failed, expected \\n {expected_h_test},\\n got \\n {my_h_test}.\")"
   ]
  },
  {
   "cell_type": "markdown",
   "metadata": {},
   "source": [
    "Assuming they passed, we can generate the project Hamiltonian"
   ]
  },
  {
   "cell_type": "code",
   "execution_count": 6,
   "metadata": {},
   "outputs": [
    {
     "data": {
      "text/plain": [
       "array([[-3.5,  0. ,  0. , ...,  0. ,  0. ,  0. ],\n",
       "       [ 0. , -4.5,  0. , ...,  0. ,  0. ,  0. ],\n",
       "       [ 0. ,  0. , -4.5, ...,  0. ,  0. ,  0. ],\n",
       "       ...,\n",
       "       [ 0. ,  0. ,  0. , ..., 12.5,  0. ,  0. ],\n",
       "       [ 0. ,  0. ,  0. , ...,  0. ,  8.5,  0. ],\n",
       "       [ 0. ,  0. ,  0. , ...,  0. ,  0. , 15.5]])"
      ]
     },
     "execution_count": 6,
     "metadata": {},
     "output_type": "execute_result"
    }
   ],
   "source": [
    "kappa = 0.5\n",
    "M = np.matrix([\n",
    "    [0, 1, 1, 0, 0],\n",
    "    [0, 0, 1, 0, 1],\n",
    "    [0, 0, 0, 1, 1],\n",
    "    [0, 0, 0, 0, 0],\n",
    "    [0, 0, 0, 0, 0]\n",
    "])\n",
    "\n",
    "J, h = generate_strengths(M, kappa)\n",
    "\n",
    "H_ising = construct_H_ising(J, h)\n",
    "\n",
    "H_ising"
   ]
  },
  {
   "cell_type": "markdown",
   "metadata": {},
   "source": [
    "#### 2. Verify correct lowest energy state is in the 19th column\n"
   ]
  },
  {
   "cell_type": "code",
   "execution_count": 7,
   "metadata": {},
   "outputs": [
    {
     "name": "stdout",
     "output_type": "stream",
     "text": [
      "Lowest energy state is as expected.\n"
     ]
    }
   ],
   "source": [
    "if np.min(H_ising) == H_ising[19][19]:\n",
    "    print(\"Lowest energy state is as expected.\")\n",
    "else:\n",
    "    print(\"Lowest energy state is not where we expect to find it.\")"
   ]
  },
  {
   "cell_type": "markdown",
   "metadata": {},
   "source": [
    "#### 3. Simulate an adiabatic algorithm, solving the problem with a time dependent Hamiltonian\n",
    "\n",
    "First, define the function for the time-dependent Hamiltonian,\n",
    "\n",
    "$$\n",
    "H(t) = -A(t) \\sum_j \\sigma_j^x + B(t)H_{\\mathrm{Ising}},\n",
    "$$\n",
    "\n",
    "where $A(t) = 1 - t/t_{\\mathrm{max}}$ and $B(t) = t/t_{\\mathrm{max}}$ are the time-dependent controls."
   ]
  },
  {
   "cell_type": "code",
   "execution_count": 8,
   "metadata": {},
   "outputs": [],
   "source": [
    "def time_dependent_H(A: float, B: float, H_ising: np.matrix, n: int) -> np.matrix:\n",
    "    \"\"\"\n",
    "    Inputs:\n",
    "    A, B: time controls\n",
    "    H_isising: the problem Hamiltonian\n",
    "    n: the number of qubits in the system\n",
    "    \"\"\"    \n",
    "    H = B * H_ising\n",
    "\n",
    "    for j in range(n):\n",
    "        H -= A * generate_sigma_j(j, 'x', n)\n",
    "    \n",
    "    return H\n",
    "\n",
    "def control_A(t: float, t_max: float) -> float:\n",
    "    \"\"\"\n",
    "    Inputs:\n",
    "    t: time\n",
    "    t_max: total runtime of the algorithm\n",
    "    Return:\n",
    "    Linear time dependent control\n",
    "    \"\"\"\n",
    "    return 1 - t/t_max\n",
    "\n",
    "def control_B(t: float, t_max: float) -> float:\n",
    "    \"\"\"\n",
    "    Inputs:\n",
    "    t: time\n",
    "    t_max: total runtime of the algorithm\n",
    "    Return:\n",
    "    Linear time dependent control\n",
    "    \"\"\"\n",
    "    return t/t_max"
   ]
  },
  {
   "cell_type": "markdown",
   "metadata": {},
   "source": [
    "Form the initial wavefunction, the ground state of the initial Hamiltonian. Since, at $t = 0$, $B=0$ and $A>0$, the ground state will just be the highest energy state of each $\\sigma^x$ individually.\n",
    "$$\n",
    "| \\phi_0 \\left ( A>0, B=0\\right)\\rangle = \\bigotimes _{j=1}^n | + \\rangle\n",
    "$$"
   ]
  },
  {
   "cell_type": "code",
   "execution_count": 9,
   "metadata": {},
   "outputs": [],
   "source": [
    "def generate_initial_wavefunction(n: int) -> np.ndarray:\n",
    "    \"\"\"\n",
    "    Inputs:\n",
    "    n: number of qubits\n",
    "    Returns:\n",
    "    The ground state of the Hamiltonian at t=0\n",
    "    \"\"\"\n",
    "    phi = 1\n",
    "    max_state = np.array([[1, 1]]).T / np.sqrt(2)\n",
    "\n",
    "    for _ in range(n):\n",
    "        phi = np.kron(phi, max_state)\n",
    "    \n",
    "    return phi"
   ]
  },
  {
   "cell_type": "code",
   "execution_count": 10,
   "metadata": {},
   "outputs": [],
   "source": [
    "n = M.shape[0]\n",
    "phi_0 = generate_initial_wavefunction(n)"
   ]
  },
  {
   "cell_type": "markdown",
   "metadata": {},
   "source": [
    "We also need the vector $|19\\rangle$ to calculate the probability that our solution is correct"
   ]
  },
  {
   "cell_type": "code",
   "execution_count": 11,
   "metadata": {},
   "outputs": [],
   "source": [
    "def generate_vector_j(j: int, n: int) -> np.ndarray:\n",
    "    \"\"\"\n",
    "    Returns a column vector with all values 0 except at j where it is 1\n",
    "    \"\"\"\n",
    "    vector = np.zeros((1, 2**n))\n",
    "    vector[:,j] = 1\n",
    "\n",
    "    return vector.T"
   ]
  },
  {
   "cell_type": "markdown",
   "metadata": {},
   "source": [
    "And the time evolution operator\n",
    "\n",
    "$$\n",
    "U\\left(\\frac{k t_\\mathrm{max}}{q}, 0\\right) = \\mathcal{T}\\prod_{j=1}^k \\exp \\left ( -i \\frac{t_\\mathrm{max}}{q} H \\left(\\frac{j t_\\mathrm{max}}{q}\\right) \\right)\n",
    "$$"
   ]
  },
  {
   "cell_type": "code",
   "execution_count": 12,
   "metadata": {},
   "outputs": [],
   "source": [
    "def time_evolution(t_max: float, q: int, H: np.matrix, phi: np.ndarray) -> np.ndarray:\n",
    "    \"\"\"\n",
    "    Inputs:\n",
    "    t_max: maximum time for evolution\n",
    "    q: number of time divisions\n",
    "    H: time dependent Hamiltonian evaluated at jt_max/q\n",
    "    phi: current wavefunction\n",
    "    Returns:\n",
    "    The time evolved wavefunction\n",
    "    \"\"\"\n",
    "\n",
    "    return np.matmul(sc.linalg.expm(-1j * t_max / q * H), phi)"
   ]
  },
  {
   "cell_type": "markdown",
   "metadata": {},
   "source": [
    "Now, vary $t$ from $0$ to $t_{\\mathrm{max}}$ in $q$ steps. "
   ]
  },
  {
   "cell_type": "code",
   "execution_count": 58,
   "metadata": {},
   "outputs": [],
   "source": [
    "def evolve_phi(\n",
    "        phi: np.ndarray,\n",
    "        j: int,\n",
    "        t_max: int,\n",
    "        q: int\n",
    "        ) -> list[float]:\n",
    "    \"\"\"\n",
    "    For a given function phi = phi((j - 1) * t_max / q), returns\n",
    "    phi(j * t_max / q)\n",
    "    \"\"\"\n",
    "    t = j * t_max / q\n",
    "\n",
    "    A = control_A(t, t_max)\n",
    "    B = control_B(t, t_max)\n",
    "\n",
    "    # Generate the Hamiltonian at time t\n",
    "    H = time_dependent_H(A, B, H_ising, n)\n",
    "\n",
    "    # Evolve the wavefunction from t -> j * t_max / q\n",
    "    phi = time_evolution(t_max, q, H, phi)\n",
    "\n",
    "    return phi"
   ]
  },
  {
   "cell_type": "code",
   "execution_count": 14,
   "metadata": {},
   "outputs": [],
   "source": [
    "def generate_probabilities(\n",
    "        q: int, \n",
    "        t_max: float, \n",
    "        H_ising: np.matrix, \n",
    "        n: int, \n",
    "        expected_vector: np.ndarray\n",
    "        ) -> list[float]:\n",
    "    \"\"\"\n",
    "    Inputs:\n",
    "    q: the number of time increments\n",
    "    t_max: the maximum time\n",
    "    H_ising: the problem Hamilonian\n",
    "    n: the number of qubits\n",
    "    expected_vector: the ground state of the problem Hamiltonian\n",
    "    Returns:\n",
    "    A list of the probabilities that the system has the expected wavefunction\n",
    "    for times t in [0, t_max]  \n",
    "    \"\"\"\n",
    "    probs = []\n",
    "    phi = phi_0\n",
    "\n",
    "    for j in range(q):\n",
    "        phi = evolve_phi(phi, j, t_max, q)\n",
    "\n",
    "        # Calculate the probability that phi represents the expected vector_19\n",
    "        prob = (np.abs(np.dot(phi.T, expected_vector))**2)[0][0] \n",
    "\n",
    "        probs.append(prob)\n",
    "    \n",
    "    return probs"
   ]
  },
  {
   "cell_type": "code",
   "execution_count": 52,
   "metadata": {},
   "outputs": [
    {
     "data": {
      "image/png": "[encoded data removed]",
      "text/plain": [
       "<Figure size 640x480 with 1 Axes>"
      ]
     },
     "metadata": {},
     "output_type": "display_data"
    }
   ],
   "source": [
    "q = 1000\n",
    "t_maxs = [1, 2, 5, 10, 100]\n",
    "# t_maxs=[100]\n",
    "vector_19 = generate_vector_j(19, n)\n",
    "\n",
    "for t_max in t_maxs:\n",
    "    probs = generate_probabilities(q, t_max, H_ising, n, vector_19)\n",
    "\n",
    "    times = np.linspace(0, 1, q)\n",
    "    plt.plot(times, probs)\n",
    "\n",
    "font = {'fontname' : 'Helvetia'}\n",
    "\n",
    "plt.xlabel(r'$t/t_{\\mathrm{max}}$')\n",
    "plt.ylabel('Success Probability', **font)\n",
    "plt.savefig('milestone.png', transparent=True)"
   ]
  },
  {
   "cell_type": "markdown",
   "metadata": {},
   "source": [
    "### Superposition animation"
   ]
  },
  {
   "cell_type": "markdown",
   "metadata": {},
   "source": [
    "Define the basis matrix $B$"
   ]
  },
  {
   "cell_type": "code",
   "execution_count": 18,
   "metadata": {},
   "outputs": [],
   "source": [
    "B = np.identity(2**n)"
   ]
  },
  {
   "cell_type": "markdown",
   "metadata": {},
   "source": [
    "Create plot"
   ]
  },
  {
   "cell_type": "code",
   "execution_count": 80,
   "metadata": {},
   "outputs": [
    {
     "name": "stdout",
     "output_type": "stream",
     "text": [
      "0\n",
      "0\n",
      "100\n",
      "200\n",
      "300\n",
      "400\n",
      "500\n",
      "600\n",
      "700\n",
      "800\n",
      "900\n"
     ]
    },
    {
     "data": {
      "image/png": "[encoded data removed]",
      "text/plain": [
       "<Figure size 640x480 with 1 Axes>"
      ]
     },
     "metadata": {},
     "output_type": "display_data"
    }
   ],
   "source": [
    "fig, ax = plt.subplots()\n",
    "ax.set_ylabel('Component Value')\n",
    "ax.set_title('Vector Components with Respect to Basis Vectors')\n",
    "\n",
    "t_max = 100\n",
    "q = 1000\n",
    "phi = generate_initial_wavefunction(n)\n",
    "\n",
    "def update(j, t_max, q):\n",
    "    if j % 100 == 0:\n",
    "        print(j)\n",
    "\n",
    "    ax.clear()\n",
    "\n",
    "    # Calculate phi in this frame\n",
    "    global phi\n",
    "    phi = evolve_phi(phi, j, t_max, q)\n",
    "\n",
    "    # Calculate the projection of phi in the basis B\n",
    "    projections = ((np.abs(np.dot(phi.T, B)))**2)[0]\n",
    "\n",
    "    sorted_indices = np.argsort(projections)[::-1]\n",
    "    projections = projections[sorted_indices]\n",
    "\n",
    "    ax.bar(range(len(projections)), projections)\n",
    "    ax.set_xticks(range(len(projections)))\n",
    "    ax.set_xticklabels([i for i in sorted_indices])\n",
    "    ax.set_ylabel('Component Value')\n",
    "    ax.set_title('Vector Components with Respect to Basis Vectors')\n",
    "\n",
    "anim = FuncAnimation(\n",
    "    fig, \n",
    "    partial(update, t_max=t_max, q=q),\n",
    "    frames=np.arange(0, q, 1), \n",
    "    interval=30,\n",
    "    )\n",
    "\n",
    "# Set higher memory limit\n",
    "matplotlib.rcParams['animation.embed_limit'] = 2**128\n",
    "\n",
    "writergif = animation.PillowWriter(fps=30)\n",
    "anim.save('filename.gif',writer=writergif)\n",
    "\n",
    "# HTML(animation.to_jshtml())"
   ]
  },
  {
   "cell_type": "markdown",
   "metadata": {},
   "source": [
    "## Poster ideas\n",
    "\n",
    "- Could add a QR code leading to a gif of a bar chart of how the superposition states vary with time\n",
    "- Make graph look nicer \n",
    "- Talk more directly about results, what does the graph mean, what does success probability mean etc."
   ]
  }
 ],
 "metadata": {
  "kernelspec": {
   "display_name": "Python 3",
   "language": "python",
   "name": "python3"
  },
  "language_info": {
   "codemirror_mode": {
    "name": "ipython",
    "version": 3
   },
   "file_extension": ".py",
   "mimetype": "text/x-python",
   "name": "python",
   "nbconvert_exporter": "python",
   "pygments_lexer": "ipython3",
   "version": "3.10.5"
  },
  "orig_nbformat": 4
 },
 "nbformat": 4,
 "nbformat_minor": 2
}
